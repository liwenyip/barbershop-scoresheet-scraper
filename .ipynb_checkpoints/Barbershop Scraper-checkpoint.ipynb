{
 "cells": [
  {
   "cell_type": "code",
   "execution_count": 199,
   "metadata": {
    "collapsed": true
   },
   "outputs": [],
   "source": [
    "from urllib2 import Request, urlopen\n",
    "from PyPDF2 import PdfFileWriter, PdfFileReader\n",
    "from StringIO import StringIO\n",
    "from tabulate import tabulate\n",
    "import re, string, csv, unicodedata\n",
    "import pandas as pd\n"
   ]
  },
  {
   "cell_type": "code",
   "execution_count": 196,
   "metadata": {
    "collapsed": false
   },
   "outputs": [],
   "source": [
    "# Helper Functions\n",
    "\n",
    "def wikilink(text):\n",
    "    return text.join('[[',']]')\n",
    "\n",
    "def get_text_from_pdf(url):\n",
    "    remoteFile = urlopen(Request(url)).read()\n",
    "    memoryFile = StringIO(remoteFile)\n",
    "    pdfFile = PdfFileReader(memoryFile)\n",
    "    # extract text\n",
    "    text = \" \".join(page.extractText() for page in pdfFile.pages) # extract text from all pages\n",
    "    text = unicodedata.normalize('NFKD', text).encode('ascii','ignore')  # normalise unicode\n",
    "    return text\n",
    "\n",
    "\n",
    "# list of corrections\n",
    "corrections = {\n",
    "    r\"Pete Nugent\": \"Nooj\",\n",
    "    r\"Peter Nugent\": \"Nooj\",\n",
    "    r\"Li Wen Yip\": \"Li-Wen Yip\",\n",
    "    r\"Simon Lubowski\": \"Simon Lubkowski\",\n",
    "    r\"Alexander Sanctuary\": \"Alex Sanctuary\",\n",
    "    r\"Alexander de Bruin\": \"Alex de Bruin\",\n",
    "    r\"Boo Lewis\": \"Boo de Bruin\",\n",
    "    r\"Alistair Hay\\-Plumb\": \"Alastair Hay-Plumb\",\n",
    "}\n",
    "corrections = {re.escape(k): v for k, v in corrections.items()}\n",
    "corrections_re = re.compile(\"|\".join(corrections.keys()))\n",
    "\n",
    "def fix_text(text):\n",
    "    text = re.sub(r\"\\s*\\n\\s*\", \" \", text) # strip newlines\n",
    "    text = re.sub(r\"(\\w)\\-\\s(\\w)\", r\"\\1-\\2\", text)  # fix hyphenated names that have broken\n",
    "    text = corrections_re.sub(lambda m: corrections[re.escape(m.group(0))], text)\n",
    "    return text"
   ]
  },
  {
   "cell_type": "code",
   "execution_count": 153,
   "metadata": {
    "collapsed": false
   },
   "outputs": [],
   "source": [
    "# list of URLS to scrape\n",
    "urlss = {\n",
    "    \"BinH Mixed\": {\n",
    "        2015:\"http://www.labbs.org.uk/convention/2015/MQF2015.pdf\",\n",
    "        2014:\"http://www.labbs.org.uk/convention/2014/MQF2014.pdf\",\n",
    "        2013:\"http://www.labbs.org.uk/convention/2013/MQF2013.pdf\",\n",
    "        2012:\"http://www.labbs.org.uk/convention/2012/MQ2012.pdf\"        \n",
    "    },\n",
    "    \n",
    "#    \"LABBS\": {\n",
    "#        2015:\"http://www.labbs.org.uk/convention/2015/QP-2015.pdf\",\n",
    "#        2014:\"http://www.labbs.org.uk/convention/2014/QP-2014.pdf\",\n",
    "#        2013:\"http://www.labbs.org.uk/convention/2013/QtPrelims2013.pdf\",\n",
    "#        2012:\"http://www.labbs.org.uk/convention/2012/QP2012-Detail.pdf\",\n",
    "#        2011:\"http://www.labbs.org.uk/convention/2011/QP-2011-Detail.pdf\",\n",
    "#        2010:\"http://www.labbs.org.uk/convention/2010/QSF2010.pdf\"        \n",
    "#    },\n",
    "}\n",
    "\n",
    "\n",
    "    \n",
    "textss = {affiliation: {year: get_text_from_pdf(url) for year, url in urls.items()} for affiliation, urls in urlss.items()}"
   ]
  },
  {
   "cell_type": "code",
   "execution_count": 179,
   "metadata": {
    "collapsed": false
   },
   "outputs": [
    {
     "name": "stdout",
     "output_type": "stream",
     "text": [
      "('922', 'The Nearness Of You', 'You Took Advantage Of Me', '152', '154', '153', '153', '154', '156', '1', '1', '1', '1', 'Hannah and the Hurricanes', 'Andrea Day', 'Hannah Braham', 'Tim Briggs', 'Duncan Whinyates', '76.8')\n"
     ]
    }
   ],
   "source": [
    "test=\"Highest Placed  Quartet(s) 2015\\n922\\nThe Nearness Of You\\nYou Took Advantage Of Me\\n152\\n154\\n153\\n153\\n154\\n156\\n1\\n1\\n1\\nCategory rankings:\\n1: Hannah and the Hurricanes  \\n(Andrea Day, Hannah Braham, \\nTim Briggs, Duncan Whinyates)\\n76.8\"\n",
    "test2=\"Second Placed  Quartet(s) 2015\\n889\\nSteppin' Out With My Baby\\nYou Are So Beautiful\\n144\\n147\\n145\\n147\\n154\\n152\\n3\\n3\\n2\\nCategory rankings:\\n2: MasterMix  (Cherie Morgan, \\nSarah Cole, Brian Shaw, \\nKenneth Nilsson)\\n74.1\"\n",
    "quartet_re = re.compile(\n",
    "    r\"(\\d{1,3})\\n\" +  # total score\n",
    "    r\"([^\\n]+)\\n\" * 2 +  # song titles\n",
    "    r\"(\\d{1,3})\\n\" * 9 +  # category scores + rankings\n",
    "    r\"Category [Rr]ankings:\\n\" +\n",
    "    r\"(\\d+):\\s+\" +  # \"1: \"\n",
    "    r\"([^\\(]+?)\\s+\\(\" +  # \"Quartet Name (\"\n",
    "    r\"(.+?)[\\.,]\\s*\" * 3 + r\"(.+?)\" + # Singers   \n",
    "    r\"\\)\\s*([\\d\\.]+)\",  # \") score\"\n",
    "    re.DOTALL\n",
    ")\n",
    "\n",
    "for m in quartet_re.finditer(test):\n",
    "    print m.groups()\n",
    "\n",
    "    \n",
    "    "
   ]
  },
  {
   "cell_type": "code",
   "execution_count": 197,
   "metadata": {
    "collapsed": false
   },
   "outputs": [],
   "source": [
    "quartetss = []\n",
    "\n",
    "\n",
    "\n",
    "def parse(textss):\n",
    "    for affiliation, texts in textss.items():\n",
    "        for year, text in texts.items():\n",
    "            for m in quartet_re.finditer(text):\n",
    "                total_score, title1, title2, \\\n",
    "                mus1, mus2, prs1, prs2, sng1, sng2, \\\n",
    "                mus_rank, prs_rank, sng_rank, \\\n",
    "                place, name, tenor, lead, bari, bass, pc_score = (fix_text(t) for t in m.groups())\n",
    "                \n",
    "                yield year, place, wikilink(name), wikilink(tenor), \\\n",
    "                wikilink(lead), wikilink(bari), wikilink(bass), pc_score\n",
    "\n",
    "\n"
   ]
  },
  {
   "cell_type": "code",
   "execution_count": 207,
   "metadata": {
    "collapsed": false
   },
   "outputs": [
    {
     "name": "stdout",
     "output_type": "stream",
     "text": [
      "{| class=\"wikitable\" style=\"text-align: left;\"\n",
      "|+ <!-- caption -->\n",
      "|-\n",
      "! align=\"right\"|   Year !! align=\"right\"|   Place !! Name                           !! Tenor           !! Lead                 !! Bari            !! Bass             !! align=\"right\"|   Score (%)\n",
      "|-\n",
      "| align=\"right\"|   2012 || align=\"right\"|       1 || Double Trouble                 || Jacqui Foetu    || Monica Funnell       || Andy Foster     || Andy Funnell     || align=\"right\"|        75.3\n",
      "|-\n",
      "| align=\"right\"|   2012 || align=\"right\"|       2 || K4                             || Delyth Knight   || Dick Knight          || Joe Knight      || Tom Knight       || align=\"right\"|        73.1\n",
      "|-\n",
      "| align=\"right\"|   2012 || align=\"right\"|       3 || Rhythmix                       || Cherie Morgan   || Brian Shaw           || Helen Lappert   || Stuart Owen      || align=\"right\"|        72.2\n",
      "|-\n",
      "| align=\"right\"|   2012 || align=\"right\"|       4 || Bobcatz                        || Veryan Zimber   || Gemma Netherton-Hind || Sarah Netherton || Rob Barber       || align=\"right\"|        70.8\n",
      "|-\n",
      "| align=\"right\"|   2012 || align=\"right\"|       5 || Malarkey                       || Helen Stanley   || Jo Dean              || Steve Thorn     || Stephen Derrick  || align=\"right\"|        65.8\n",
      "|-\n",
      "| align=\"right\"|   2012 || align=\"right\"|       6 || Grand Connection               || Chris Wheatley  || Nigel Williams       || Kevan Liebling  || James Williams   || align=\"right\"|        60.9\n",
      "|-\n",
      "| align=\"right\"|   2012 || align=\"right\"|       7 || The Mountaineers               || Angharad Owens  || Laura Salmon         || Lyn Gibson      || Derek Hollis     || align=\"right\"|        59.4\n",
      "|-\n",
      "| align=\"right\"|   2013 || align=\"right\"|       1 || Patchwork                      || Helen Warner    || Alastair Hay-Plumb   || James Whittick  || Sean Egan        || align=\"right\"|        71.8\n",
      "|-\n",
      "| align=\"right\"|   2013 || align=\"right\"|       2 || Jigsaw                         || Ali Jack        || Keith Rees           || Donna Rees      || Nooj             || align=\"right\"|        70.4\n",
      "|-\n",
      "| align=\"right\"|   2013 || align=\"right\"|       3 || K4                             || Delyth Knight   || Dick Knight          || Joe Knight      || Tom Knight       || align=\"right\"|        67.3\n",
      "|-\n",
      "| align=\"right\"|   2013 || align=\"right\"|       4 || Rhythmix                       || Cherie Morgan   || Brian Shaw           || Helen Lappert   || Keith Hirst      || align=\"right\"|        66.3\n",
      "|-\n",
      "| align=\"right\"|   2013 || align=\"right\"|       5 || Post IT Notes                  || Alison Soutar   || Jeanette Yuile       || Brian Leel      || Colin Reid       || align=\"right\"|        64.9\n",
      "|-\n",
      "| align=\"right\"|   2013 || align=\"right\"|       6 || Blarney Tones                  || Emma McManus    || Katy Phillips        || Teresa Phillips || Eamon Phillips   || align=\"right\"|        64.4\n",
      "|-\n",
      "| align=\"right\"|   2013 || align=\"right\"|       7 || 4 Kandles                      || Sarah Hooker    || Justine Nye          || Rose Hopkinson  || Jerry Cadge      || align=\"right\"|        63.7\n",
      "|-\n",
      "| align=\"right\"|   2013 || align=\"right\"|       8 || Fusion                         || Louise Jourdan  || Caroline Clarke      || Cly Wallace     || Andrew Edgley    || align=\"right\"|        62.7\n",
      "|-\n",
      "| align=\"right\"|   2013 || align=\"right\"|       9 || Chill                          || Una Woodhead    || Janette Smith        || Mike Coumans    || Bill Cheyne      || align=\"right\"|        60.1\n",
      "|-\n",
      "| align=\"right\"|   2014 || align=\"right\"|       1 || Hannah and the Hurricanes      || Andrea Day      || Hannah Braham        || Tim Briggs      || Duncan Whinyates || align=\"right\"|        73.6\n",
      "|-\n",
      "| align=\"right\"|   2014 || align=\"right\"|       2 || Jigsaw                         || Ali Jack        || Keith Rees           || Donna Rees      || Nooj             || align=\"right\"|        73.2\n",
      "|-\n",
      "| align=\"right\"|   2014 || align=\"right\"|       3 || Patchwork                      || Helen Warner    || Alastair Hay-Plumb   || James Whittick  || Sean Egan        || align=\"right\"|        72.5\n",
      "|-\n",
      "| align=\"right\"|   2014 || align=\"right\"|       4 || The Entire Population of China || Emily Atherton  || Simon Lubkowski      || Joe Knight      || Alan Hughes      || align=\"right\"|        71.3\n",
      "|-\n",
      "| align=\"right\"|   2014 || align=\"right\"|       5 || Delekate                       || Karen Whitworth || Terry Adamson        || Dean Whitehouse || Les Whitworth    || align=\"right\"|        71.2\n",
      "|-\n",
      "| align=\"right\"|   2014 || align=\"right\"|       6 || Man Overboard!                 || Alison Thompson || Carol Logan          || Kate Goddard    || David Moore      || align=\"right\"|        63\n",
      "|-\n",
      "| align=\"right\"|   2014 || align=\"right\"|       7 || BS4                            || Mary Williams   || Sue Davis            || Noey McElwee    || David Proud      || align=\"right\"|        58.5\n",
      "|-\n",
      "| align=\"right\"|   2014 || align=\"right\"|       8 || Tetrafonica                    || Rachel Dunn     || Jake Wheeler         || Lynne Lawrance  || Gary Wells       || align=\"right\"|        53.1\n",
      "|-\n",
      "| align=\"right\"|   2015 || align=\"right\"|       1 || Hannah and the Hurricanes      || Andrea Day      || Hannah Braham        || Tim Briggs      || Duncan Whinyates || align=\"right\"|        76.8\n",
      "|-\n",
      "| align=\"right\"|   2015 || align=\"right\"|       2 || MasterMix                      || Cherie Morgan   || Sarah Cole           || Brian Shaw      || Kenneth Nilsson  || align=\"right\"|        74.1\n",
      "|-\n",
      "| align=\"right\"|   2015 || align=\"right\"|       3 || Mojo                           || Rose Hopkinson  || Jon Conway           || Helen Lappert   || David Tanner     || align=\"right\"|        73.5\n",
      "|-\n",
      "| align=\"right\"|   2015 || align=\"right\"|       4 || Way Out West                   || Dick Knight     || Tracey Bailey        || Delyth Knight   || Steve Neck       || align=\"right\"|        66.6\n",
      "|-\n",
      "| align=\"right\"|   2015 || align=\"right\"|       5 || Frisson                        || Helen Lappert   || Cathy Davies         || Di Harris       || Andrew Binns     || align=\"right\"|        65.1\n",
      "|-\n",
      "| align=\"right\"|   2015 || align=\"right\"|       6 || Patchwork                      || Pippa Goodall   || Helen Warner         || James Whittick  || Sean Egan        || align=\"right\"|        64.9\n",
      "|-\n",
      "| align=\"right\"|   2015 || align=\"right\"|       7 || Man Overboard!                 || Alison Thompson || Carol Logan          || Kate Goddard    || David Moore      || align=\"right\"|        64.2\n",
      "|-\n",
      "| align=\"right\"|   2015 || align=\"right\"|       8 || Constellation                  || Boo de Bruin    || Nick Jones           || Alex de Bruin   || Alex Sanctuary   || align=\"right\"|        62.9\n",
      "|-\n",
      "| align=\"right\"|   2015 || align=\"right\"|       9 || Blind Date                     || Nicki Brant     || Andrew Lilico        || Aidan Brand     || Li-Wen Yip       || align=\"right\"|        61.5\n",
      "|-\n",
      "| align=\"right\"|   2015 || align=\"right\"|      10 || BS4                            || Mary Williams   || Sue Davis            || Noey McElwee    || David Proud      || align=\"right\"|        59.8\n",
      "|-\n",
      "| align=\"right\"|   2015 || align=\"right\"|      11 || 4 Moor                         || Val Metcalf     || Jo Stevenson         || Richard Knight  || Sharon Ashby     || align=\"right\"|        57.6\n",
      "|-\n",
      "| align=\"right\"|   2015 || align=\"right\"|      12 || 4Kandles                       || Sarah Hooker    || Justine Nye          || Khusro Ali Khan || Jerry Cadge      || align=\"right\"|        57.3\n",
      "|-\n",
      "| align=\"right\"|   2015 || align=\"right\"|      12 || Tetrafonica                    || Rachel Dunn     || Jake Wheeler         || Lynne Lawrance  || Gary Wells       || align=\"right\"|        57.3\n",
      "|-\n",
      "| align=\"right\"|   2015 || align=\"right\"|      14 || Noteability                    || Jill Barnes     || Stewart Boucher      || Kevin Barnes    || John Green       || align=\"right\"|        56.7\n",
      "|-\n",
      "| align=\"right\"|   2015 || align=\"right\"|      15 || Delekate                       || Karen Whitworth || Terry Adamson        || Dean Whitehouse || Les Whitworth    || align=\"right\"|         0\n",
      "|-\n",
      "| align=\"right\"|   2015 || align=\"right\"|      15 || Jigsaw                         || Ali Jack        || Keith Rees           || Donna Rees      || Nooj             || align=\"right\"|         0\n",
      "|}\n"
     ]
    }
   ],
   "source": [
    "headers = ['Year','Place','Name','Tenor','Lead','Bari','Bass','Score (%)']\n",
    "print tabulate(parse(textss), headers, tablefmt=\"mediawiki\") \n",
    "\n"
   ]
  }
 ],
 "metadata": {
  "kernelspec": {
   "display_name": "Python 2",
   "language": "python",
   "name": "python2"
  },
  "language_info": {
   "codemirror_mode": {
    "name": "ipython",
    "version": 2
   },
   "file_extension": ".py",
   "mimetype": "text/x-python",
   "name": "python",
   "nbconvert_exporter": "python",
   "pygments_lexer": "ipython2",
   "version": "2.7.11"
  }
 },
 "nbformat": 4,
 "nbformat_minor": 0
}
