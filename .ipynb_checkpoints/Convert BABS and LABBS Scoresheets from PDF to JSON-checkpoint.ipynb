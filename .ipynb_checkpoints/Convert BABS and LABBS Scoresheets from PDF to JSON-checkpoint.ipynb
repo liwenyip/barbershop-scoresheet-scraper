{
 "cells": [
  {
   "cell_type": "code",
   "execution_count": 227,
   "metadata": {
    "collapsed": false
   },
   "outputs": [],
   "source": [
    "from PyPDF2 import PdfFileWriter, PdfFileReader\n",
    "import re, string, csv, unicodedata, os, json\n"
   ]
  },
  {
   "cell_type": "code",
   "execution_count": 228,
   "metadata": {
    "collapsed": true
   },
   "outputs": [],
   "source": [
    "# Helper Functions\n",
    "\n",
    "# get all the text from a pdf file\n",
    "def get_text_from_pdf(url):\n",
    "    with open(url, 'rb') as infile:\n",
    "        pdfFile = PdfFileReader(infile)\n",
    "        text = \" \".join(page.extractText() for page in pdfFile.pages) # extract text from all pages\n",
    "        text = unicodedata.normalize('NFKD', text).encode('ascii','ignore')  # normalise unicode\n",
    "        return text.decode()\n",
    "\n",
    "# Strip newlines and fix hyphenated names\n",
    "def fix_text(text):\n",
    "    text = re.sub(r\"\\s*\\n\\s*\", \" \", text) # strip newlines\n",
    "    text = re.sub(r\"(\\w)\\s*\\-\\s*(\\w)\", r\"\\1-\\2\", text)  # fix hyphenated names that have broken\n",
    "    return text.strip() # trim whitespace"
   ]
  },
  {
   "cell_type": "code",
   "execution_count": 229,
   "metadata": {
    "collapsed": true
   },
   "outputs": [],
   "source": [
    "# Generic Regex Components\n",
    "\n",
    "# \\n889\\n\n",
    "# \\n1384\\n\n",
    "TOT_SCORE = r\"(\\d{3,4}|\\d{3,4}\\.\\d)\\n\"\n",
    "\n",
    "# Stars Fell On Alabama\\nFly Me To The Moon\\n\n",
    "SONGS = r\"([^\\n]+)\\n\" * 2\n",
    "\n",
    "# If You Love Me Really Love MeCome Follow The Band\n",
    "BABS_SONGS = r\"([A-Z][^\\n]+[a-z])\" * 2 + r\"\\n?\"\n",
    "\n",
    "# 228\\n223\\n229\\n225\\n231\\n227\\n\n",
    "# 252250247\\n244\\n247243111\\n\n",
    "CAT_SCORES = r\"(\\d{3})\\n?\" * 6 \n",
    "\n",
    "# Previous (balanced):\\n459.0\\n458.0\\n461.0\\n\n",
    "PREV_SCORES = r\"Previous \\([Bb]alanced\\):\\n\" + \"(\\d\\d\\d\\.\\d)\\n?\" * 3\n",
    "\n",
    "# 1\\n1\\n1\\nCategory rankings:\\n\n",
    "# 111\\nCategory rankings:\\n\n",
    "CAT_RANKS = r\"(\\d{1,2})\\n?\" * 3 + \"Category [Rr]ankings:\\n\"\n",
    "\n",
    "# 1: \n",
    "PLACE = r\"(\\d+):\\s*\" \n",
    "\n",
    "NAME = r\"([^\\(]+?)\\s*\" # Assumes name is followed by a (\n",
    "\n",
    "# (Sarah Hicks, Gill \\nIrwin, Julie Robinson,  Monica \\nFunnell)\n",
    "SINGERS = r\"\\(\" + r\"(.+?)[\\.,]\\s*\" * 3 + r\"(.+?)[\\.,]?\\)\\s*\"\n",
    "\n",
    "# (Jo Braham) \n",
    "DIRECTOR = r\"\\((.+?)\\)[\\n\\s]*\"\n",
    "\n",
    "# (47)\\n\n",
    "PAX = r\"\\((\\d{1,3})\\)\\n?\"\n",
    "\n",
    "# 82.3\n",
    "PC_SCORE = r\"(\\d\\d\\.\\d)\" "
   ]
  },
  {
   "cell_type": "code",
   "execution_count": 239,
   "metadata": {
    "collapsed": true
   },
   "outputs": [],
   "source": [
    "# LABBS QF (showing scores from previous round)\n",
    "# \\n1363\\n2741.0\\nStars Fell On Alabama\\nFly Me To The Moon\\n\n",
    "# 228\\n223\\n229\\n225\\n231\\n227\\n\n",
    "# Previous (balanced):\\n459.0\\n458.0\\n461.0\\n1\\n1\\n1\\nCategory rankings:\\n\n",
    "# 1: Pzazz  (Sarah Hicks, Gill \\nIrwin, Julie Robinson,  Monica \\nFunnell)\\n76.1\\n\n",
    "labbs_qf_re = re.compile(TOT_SCORE * 2 + BABS_SONGS + CAT_SCORES + PREV_SCORES + CAT_RANKS + PLACE + NAME + SINGERS + PC_SCORE, re.DOTALL)\n",
    "\n",
    "def get_quartets_final(text):\n",
    "    for m in labbs_qf_re.finditer(text):\n",
    "        thisround_score, tot_score, title1, title2, \\\n",
    "        mus1, mus2, prs1, prs2, sng1, sng2, \\\n",
    "        mus_prev, prs_prev, sng_prev, mus_rank, prs_rank, sng_rank, \\\n",
    "        place, name, tenor, lead, bari, bass, pc_score = (fix_text(t) for t in m.groups())\n",
    "\n",
    "        yield {\n",
    "            'name':name,\n",
    "            'type':'quartet',\n",
    "            'place':place,\n",
    "            'tot_score':tot_score,\n",
    "            'pc_score':pc_score,\n",
    "            'singers': [\n",
    "                {'name':tenor, 'part':'tenor'},\n",
    "                {'name':lead, 'part':'lead'},\n",
    "                {'name':bari, 'part':'bari'},\n",
    "                {'name':bass, 'part':'bass'},\n",
    "            ],\n",
    "            'songs': [\n",
    "                {'song':title1, 'mus':mus1, 'prs':prs1, 'sng':sng1},\n",
    "                {'song':title2, 'mus':mus2, 'prs':prs2, 'sng':sng2},\n",
    "                {'song':'Previous (balanced)', 'mus':mus_prev, 'prs':prs_prev, 'sng':sng_prev},\n",
    "            ]\n",
    "        }    "
   ]
  },
  {
   "cell_type": "code",
   "execution_count": 231,
   "metadata": {
    "collapsed": true
   },
   "outputs": [],
   "source": [
    "# LABBS QP / MQF\n",
    "# \\n889\\nIf Ever I Would Leave You\\nLook At Me Now\\n\n",
    "# 149\\n146\\n154\\n153\\n143\\n144\\n1\\n1\\n1\\nCategory rankings:\\n\n",
    "# 1: The Mix  (Andrea Day, Jo \\nBraham, Nancy Kelsall, Sandra \\nLea-Riley)\\n74.1\\n\n",
    "labbs_q_re = re.compile(TOT_SCORE + SONGS + CAT_SCORES + CAT_RANKS + PLACE + NAME + SINGERS + PC_SCORE, re.DOTALL)\n",
    "\n",
    "# \\n1418\\nThere I've Said It AgainWouldn't It Be Lovely234242233\\n236\\n235238112\\nCategory rankings:\\n\n",
    "# 1: Portobello Road  (Ian James, Brian Schofield, Steve Emery, \\n\\nStuart Owen)\\n78.8\n",
    "babs_q_re = re.compile(TOT_SCORE + BABS_SONGS + CAT_SCORES + CAT_RANKS + PLACE + NAME + SINGERS + PC_SCORE, re.DOTALL)\n",
    "\n",
    "def get_quartets(text):\n",
    "    if re.search('LADIES', get_district(text)):\n",
    "        r = labbs_q_re\n",
    "    else:\n",
    "        r = babs_q_re\n",
    "    for m in labbs_q_re.finditer(text):\n",
    "        tot_score, title1, title2, \\\n",
    "        mus1, mus2, prs1, prs2, sng1, sng2, \\\n",
    "        mus_rank, prs_rank, sng_rank, \\\n",
    "        place, name, tenor, lead, bari, bass, pc_score = (fix_text(t) for t in m.groups())\n",
    "\n",
    "        yield {\n",
    "            'name':name,\n",
    "            'type':'quartet',\n",
    "            'place':place,\n",
    "            'tot_score':tot_score,\n",
    "            'pc_score':pc_score,\n",
    "            'singers': [\n",
    "                {'name':tenor, 'part':'tenor'},\n",
    "                {'name':lead, 'part':'lead'},\n",
    "                {'name':bari, 'part':'bari'},\n",
    "                {'name':bass, 'part':'bass'},\n",
    "            ],\n",
    "            'songs': [\n",
    "                {'song':title1, 'mus':mus1, 'prs':prs1, 'sng':sng1},\n",
    "                {'song':title2, 'mus':mus2, 'prs':prs2, 'sng':sng2},\n",
    "            ]\n",
    "        }    "
   ]
  },
  {
   "cell_type": "code",
   "execution_count": 232,
   "metadata": {
    "collapsed": true
   },
   "outputs": [],
   "source": [
    "# LABBS CF\n",
    "# \\n1448\\nHow'dja Like To Love Me?\\nIf You Love Me Really Love Me\\n\n",
    "# 241\\n241\\n242\\n240\\n242\\n242\\n1\\n1\\n1\\nCategory rankings:\\n\n",
    "# 1: Cheshire Chord Company  \\n(Jo Braham) (47)\\n80.4\\n\n",
    "labbs_c_re = re.compile(TOT_SCORE + SONGS + CAT_SCORES + CAT_RANKS + PLACE + NAME + DIRECTOR + PAX + PC_SCORE, re.DOTALL)\n",
    "\n",
    "# BABS CF\n",
    "# \\n1483\\nIf You Love Me Really Love MeCome Follow The Band252250247\\n244\\n247243111\\n\n",
    "# Category rankings:\\n1: The Cottontown Chorus  \\n(Neil Firth) (62)82.4\n",
    "babs_c_re = re.compile(TOT_SCORE + BABS_SONGS + CAT_SCORES + CAT_RANKS + PLACE + NAME + DIRECTOR + PAX + PC_SCORE, re.DOTALL)\n",
    "\n",
    "def get_choruses(text):\n",
    "    if re.search('LADIES', get_district(text)):\n",
    "        r = labbs_c_re\n",
    "    else:\n",
    "        r = babs_c_re\n",
    "    for m in r.finditer(text):\n",
    "        tot_score, title1, title2, \\\n",
    "        mus1, mus2, prs1, prs2, sng1, sng2, \\\n",
    "        mus_rank, prs_rank, sng_rank, \\\n",
    "        place, name, director, singers, pc_score = (fix_text(t) for t in m.groups())\n",
    "\n",
    "        yield {\n",
    "            'name':name,\n",
    "            'type':'chorus',\n",
    "            'place':place,\n",
    "            'tot_score':tot_score,\n",
    "            'pc_score':pc_score,\n",
    "            'director':director,\n",
    "            'singers':singers,\n",
    "            'songs': [\n",
    "                {'song':title1, 'm':mus1, 'p':prs1, 's':sng1},\n",
    "                {'song':title2, 'm':mus2, 'p':prs2, 's':sng2},\n",
    "            ]\n",
    "        }    "
   ]
  },
  {
   "cell_type": "code",
   "execution_count": 241,
   "metadata": {
    "collapsed": false
   },
   "outputs": [],
   "source": [
    "# Extract judges and contest admin (CA) names from text\n",
    "def get_judges(text):\n",
    "    m = re.compile(r\"Music:(.*)\\n(?:Performance|Presentation):(.*)\\nSinging:(.*)\\n(?:Admin|CA):(.*?)(\\n|Signed)\").search(text)\n",
    "    judges = []\n",
    "    judges.extend({'cat':'m', 'name':fix_text(n.strip())} for n in m.group(1).split(','))\n",
    "    judges.extend({'cat':'p', 'name':fix_text(n.strip())} for n in m.group(2).split(','))\n",
    "    judges.extend({'cat':'s', 'name':fix_text(n.strip())} for n in m.group(3).split(','))\n",
    "    judges.extend({'cat':'ca', 'name':fix_text(n.strip())} for n in m.group(4).split(','))\n",
    "    return judges\n",
    "\n",
    "# Extract contest date from text\n",
    "def get_date(text):\n",
    "    m = re.compile(r\"Contest date:\\s*(.*)\\s*\").search(text)\n",
    "    return fix_text(m.group(1))\n",
    "\n",
    "# Extract contest name from text\n",
    "def get_contest(text):\n",
    "    m = re.compile(r\".*\\n(.*)\").match(text)\n",
    "    return fix_text(m.group(1))\n",
    "\n",
    "# Extract district name from text\n",
    "def get_district(text):\n",
    "    m = re.compile(r\"(.*)\").match(text)\n",
    "    return fix_text(m.group(1))"
   ]
  },
  {
   "cell_type": "code",
   "execution_count": 242,
   "metadata": {
    "collapsed": false
   },
   "outputs": [],
   "source": [
    "# Scrape all pdf files in the same directory\n",
    "\n",
    "directories = [#'LABBS/',\n",
    "               'BABS/']\n",
    "\n",
    "for directory in directories:\n",
    "    for filename in os.listdir(directory):\n",
    "        if filename.endswith(\".pdf\"): \n",
    "            # extract the raw text\n",
    "            text = get_text_from_pdf(os.path.join(directory, filename))\n",
    "            # choose the appropriate parsing functions depending on type of contest\n",
    "            if re.search('CHORUS', get_contest(text)):\n",
    "                get_contestants = get_choruses\n",
    "            elif re.search('NATIONAL QUARTET FINALS', get_contest(text)):\n",
    "                get_contestants = get_quartets_final\n",
    "            else:\n",
    "                get_contestants = get_quartets\n",
    "            # parse the text, create object\n",
    "            contest = ({\n",
    "                'district':get_district(text),\n",
    "                'contest':get_contest(text),\n",
    "                'date':get_date(text),\n",
    "                'contestants':list(get_contestants(text)),\n",
    "                'judges':get_judges(text)\n",
    "            })\n",
    "            # save object as JSON\n",
    "            with open(os.path.join(directory, filename.replace('pdf', 'json')), 'w') as outfile:\n",
    "                json.dump(contest, outfile, indent=2)"
   ]
  },
  {
   "cell_type": "code",
   "execution_count": 238,
   "metadata": {
    "collapsed": false
   },
   "outputs": [
    {
     "data": {
      "text/plain": [
       "\"THE BRITISH ASSOCIATION OF BARBERSHOP SINGERS\\nNATIONAL QUARTET PRELIMS (NATIONAL STREAM)  -  RNCM MANCHESTER: 2016/2017\\nOFFICIAL CONTEST RESULT\\nScores from semi-finals are normalised to take account of any panel size differences\\n. Decimal fractions may therefore exist.\\nCategory rankings are calculated on the category to\\ntals including previous scores where these exist.\\nCategory scores reflect any score reduc\\ntions. Reductions are shown in bracke\\nts under column headers MR, PR and SR.MusPerfSing\\nTotals\\n%Ch.Pen\\nSongsContestantMRPR\\n1418\\nThere I've Said It AgainWouldn't It Be Lovely234242233\\n236\\n235238112\\nCategory rankings:\\n1: Portobello Road  (Ian James, Brian Schofield, Steve Emery, \\n\\nStuart Owen)\\n78.81401\\nI Won't Send RosesI Have Dreamed234231231\\n229\\n236240221\\nCategory rankings:\\n2: The Locksmiths  (Richard Fisher, Simon Lubkowski, Zac \\n\\nBooles, Andrew Walker)\\n77.81361\\nOver The RainbowYou Took Advantage Of Me231223229\\n226\\n227225335\\nCategory rankings:\\n3: HeadQuarters  (Peter Kennedy, Michael Potts, Ryan \\n\\nJensen, John Williams)75.61360\\nHow Deep Is The OceanYou're Nobody 'Til Somebody Loves You227225222\\n226\\n228232454\\nCategory rankings:\\n4: The Brit Pack  (Simon Hunt, kenneth Nilsson, Peter Nugent, \\nJon Dawson)\\n75.61352\\nFeelin' GoodLove Me And The World Is Mine219217230\\n225\\n232229533\\nCategory rankings:\\n5: Hustle  (Neil Firth, Giovanni \\nArsciwals, Scott Tatton, Dale \\n\\nThompson)75.11307\\nCome Fly With Me\\nYou Belong To Me219214214\\n218\\n222220686\\nCategory rankings:\\n6: Mic Drop  (Laurence Hasson, Brian Fox, James Whittick, \\nSean Egan)72.61299\\nThere'll Be No New Tunes On This Old PianoFrom The First Hello To The Last Goodbye213208219\\n218\\n221220967\\nCategory rankings:\\n7: Tonic  (Craig Kehoe, Paul Hargest, Alex de Bruin, Ian \\n\\nMaslen)72.21287\\nFive Foot TwoAll Dressed Up With A Broken Heart217210220\\n217\\n2132107611\\nCategory rankings:\\n8: Blueprint  (Alex Edwards, \\nDave Brown, Tim Braham, \\n\\nTimm Barkworth)\\n71.51283\\nThe Way You Look TonightShow Me Where The Good Times Are217208210\\n211\\n2212168108\\nCategory rankings:\\n9: 4 On Demand  (Jamie Braham, Peter Bryant, Nick \\n\\nBryant, Calvin Laverick)\\n71.3 MusPerfSing\\nTotals\\n%Ch.Pen\\nSongsContestantMRPR\\n1270\\nI Can't Give You Anything But LoveIt's You\\n208213204\\n208\\n2182199138\\nCategory rankings:\\n10: Sound Hypothesis  (Ehsaan \\nShivarani, Conrad Godfrey, \\n\\nArun O'Sullivan, Alex Moore)\\n70.61258\\nThat's An Irish LullabyGoodbye My Coney Island Baby209210204\\n208\\n212215111310\\nCategory rankings:\\n11: Harmonopoly  (Joseph \\nSpratt, Chris Littlewood, Oliver \\n\\nGildea, Tim Bagley)\\n69.91258\\nOnce Upon A TimeYou're Nobody 'Til Somebody Loves You209208212\\n210\\n21020912912\\nCategory rankings:\\n11: Nova  (Andrew Edgley, \\nMark Gooch, John Ward, Alan \\n\\nLamprell)69.91239\\nWalkin' My Baby Back HomeSmilin' Through206203207\\n209\\n206208131213\\nCategory rankings:\\n13: South Parade  (Andy Salter, \\nDean Whitehouse, Tom Wilkin, \\nPeter Blackeby)\\n68.81234\\nI Love Being Here With YouI Won't Send Roses206196208\\n211\\n207206151114\\nCategory rankings:\\n14: Northern Quarter  (Robert \\nGall, Ciaran Wilson, Seb \\n\\nMarshall, Matt Thomas)68.61204\\nOld Cape CodIf I Loved You201196203\\n202\\n203199171515\\nCategory rankings:\\n15: Three 'n' Easy  (Gary \\nRoussak, Paul Gidney, Paul \\n\\nTatton, John Clarke)66.91202\\nSmileI'm Gonna Sit Right Down And Write Myself A Letter207202198\\n202\\n196197131917\\nCategory rankings:\\n16: Half Eight  (David Enness, \\nTim Nuttall, Greg Matthews, \\n\\nMike Lofthouse)66.81200\\nAll The WayMake 'Em Laugh196200200\\n204\\n199201181616\\nCategory rankings:\\n17: QM  (Paul Jeffrey, Trevor \\nDawson, Adrian Armstrong, \\n\\nStephen Cox)66.71187\\nDarktown Strutters' Ball\\nMona Lisa200200201\\n203\\n191192161622\\nCategory rankings:\\n18: INCLINE  (Bob Devine, \\nJason Leonard, Jonathan \\nBeard, Julian Pieters)65.91182\\nI'll Be Seeing YouGeorgia On My Mind194197200\\n200\\n197194191918\\nCategory rankings:\\n19: Platform 1  (Chris Blatchford, Peter Walters, Mark \\nSoave, Frank Salter)\\n65.71175\\nIf I Love AgainL.O.V.E197193199\\n199\\n193194202119\\nCategory rankings:\\n20: The Quadranauts  (Martyn \\nLapworth, Bill Payne, Andy \\n\\nDouglas, Tom Jeffries)65.3 MusPerfSing\\nTotals\\n%Ch.Pen\\nSongsContestantMRPR\\n1174\\nBirth Of The BluesOne For My Baby193194197\\n204\\n195191211820\\nCategory rankings:\\n21: Cemetery Junction  \\n(Michael Zefferman, Andy \\n\\nWheeler, Andy Rzysko, Richard \\n\\nLeathem)65.21150\\nAnything GoesDo You Really Love Me191192190\\n192\\n194191222321\\nCategory rankings:\\n22: The Amazing Greys  (Bob \\nDevine, Brian Tutt, Colin \\n\\nMaskrey, Mick Nadin)\\n63.91136\\nDon't Blame MeLove Me184191190\\n194\\n187190232224\\nCategory rankings:\\n23: Wrekin Havoc  (Phil Smith, \\nPaul Turner, Simon Degge, \\nEddie Evans)\\n63.11126\\nHello My BabyI Won't Send Roses192183183\\n186\\n195187232823\\nCategory rankings:\\n24: Wavelength  (Jeremy \\nJacomet, Mark Smith, Joe \\nBerry, Jonny Beeden)\\n62.61121\\nThe Chordbuster MarchZing! Went The Strings Of My Heart190182191\\n186\\n186186262426\\nCategory rankings:\\n25: Timeless  (Martin Proctor, Gary Evans, Peter Leverett, \\n\\nBrian Callaghan)62.31120\\nI Dream Of Jeannie With The Light Brown HairDrivin' Me Crazy184185186\\n189\\n186190282525\\nCategory rankings:\\n26: Borderline  (Joel Stephano, Amir Bagheri, Jon Leeper, Jake \\n\\nWaghorn)62.21110\\nFeed The BirdsCome Fly With Me\\n185181189\\n186\\n181188292528\\nCategory rankings:\\n27: Thumbs Up  (Alex Santuary, \\nChris Tongue, James \\nHorsburgh, Gary Wells)\\n61.71106\\nWonderful Day MedleyWhat'll I Do188183187\\n182\\n184182272829\\nCategory rankings:\\n28: Oakie Dokie  (Mike Paterson, Pete Dowling, Shane \\n\\nNeville, John Mason)\\n61.41101\\nI Love To Hear That Old Barbershop StyleWhen She Loved Me184181180\\n184\\n186186303026\\nCategory rankings:\\n29: Diminshed Fifth  (Abe \\nArmitage, Chris Holdridge, \\n\\nJakob Painter, Tom Hill)61.21081\\nThat's An Irish LullabyMona Lisa173172185\\n187\\n183181332730\\nCategory rankings:\\n30: The Four Posters  (Ru Pattie, Chris Bromley, Nigel \\n\\nSmith, Phil Gill)\\n60.11076\\nCome Josephine In My Flying MachineI'm Forever Blowing Bubbles188187168\\n170\\n180183233631\\nCategory rankings:\\n31: Diversion  (Tim Sowter, Jez \\nKnowles, Liam Buswell, Jens \\n\\nVanhoof)59.8 MusPerfSing\\nTotals\\n%Ch.Pen\\nSongsContestantMRPR\\n1058\\nA Wink And A SmileLet The Rest Of The World Go By172171183\\n179\\n178175343132\\nCategory rankings:\\n32: Waikikamukau  (Joe Dod, Doug Munro, Steve Smith, Paul \\n\\nKaiserman)58.81053\\nYou Make Me Feel So YoungThe Song Is Ended182173177\\n173\\n178170313333\\nCategory rankings:\\n33: Shoreline  (Steve Mowatt, \\nPaul Richmond, Steve Thorn, \\n\\nSteve Derrick)\\n58.51043\\nCinderellaIf You Were The Only Girl In The World172169180\\n177\\n174171353235\\nCategory rankings:\\n34: Open Road  (Colin Howarth, \\nAndy Sinclair, Richard \\n\\nMorrison, Joe Jobling)57.91041\\nIf I Loved YouI Love To Hear That Old Barbershop Style173174173\\n173\\n175173323433\\nCategory rankings:\\n35: Intersection  (Mick Hill, Richard Fort, Graham \\nFrampton, David Poucher)\\n57.81000\\nThat's An Irish LullabyYou're Nobody 'Til Somebody Loves You159158174\\n171\\n170168373537\\nCategory rankings:\\n36: Cheers  (David Kitchenham, \\nTerry Mansfield, John \\n\\nHardman, Dave C Brown)\\n55.6999After You've GoneFrom The First Hello To The Last Goodbye164163167\\n165\\n172168363736\\nCategory rankings:\\n37: Benner Benner Bari and Tenor  (Steve Norman, Damien \\n\\nBenner, Tony Howson, \\n\\nMatthew Benner)\\n55.5937That's An Irish LullabyLove Me158157151\\n154\\n158159383838\\nCategory rankings:\\n38: The Codebreakers  (Chris Marchant, Rick Barry, Darren \\n\\nMorgan, James Boyle)\\n52.1Music: Helen Brown, Rob Campbell, Ed Cox\\nPerformance: Andy Funnell, Neil Horchover, Bob Walker\\nSinging: Neil Brinkworth, Barry Clinton, Cherry Hartshorn\\nCA: Dick Knight, Yvonne Hughes, Alastair Taylor-Pay\\nne, Phil Mobsby, Charles Grainger, Gail Grainger\\nSigned__________________________________________________________________Contest date: 06/11/2016\\nThis report was produced for The British Association Of  Bar\\nbershop Singers using Barbershop Scores contest management software\\n.\""
      ]
     },
     "execution_count": 238,
     "metadata": {},
     "output_type": "execute_result"
    }
   ],
   "source": [
    "text = get_text_from_pdf('BABS/2016-National-Detailed.pdf')\n",
    "\n",
    "get_judgestext"
   ]
  }
 ],
 "metadata": {
  "kernelspec": {
   "display_name": "Python 3",
   "language": "python",
   "name": "python3"
  },
  "language_info": {
   "codemirror_mode": {
    "name": "ipython",
    "version": 3
   },
   "file_extension": ".py",
   "mimetype": "text/x-python",
   "name": "python",
   "nbconvert_exporter": "python",
   "pygments_lexer": "ipython3",
   "version": "3.6.0"
  }
 },
 "nbformat": 4,
 "nbformat_minor": 0
}
