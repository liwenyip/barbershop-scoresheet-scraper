{
 "cells": [
  {
   "cell_type": "code",
   "execution_count": 60,
   "metadata": {
    "collapsed": false
   },
   "outputs": [
    {
     "ename": "ModuleNotFoundError",
     "evalue": "No module named 'slate'",
     "output_type": "error",
     "traceback": [
      "\u001b[0;31m---------------------------------------------------------------------------\u001b[0m",
      "\u001b[0;31mModuleNotFoundError\u001b[0m                       Traceback (most recent call last)",
      "\u001b[0;32m<ipython-input-60-a10b4a49b502>\u001b[0m in \u001b[0;36m<module>\u001b[0;34m()\u001b[0m\n\u001b[1;32m      1\u001b[0m \u001b[1;32mfrom\u001b[0m \u001b[0mPyPDF2\u001b[0m \u001b[1;32mimport\u001b[0m \u001b[0mPdfFileWriter\u001b[0m\u001b[1;33m,\u001b[0m \u001b[0mPdfFileReader\u001b[0m\u001b[1;33m\u001b[0m\u001b[0m\n\u001b[1;32m      2\u001b[0m \u001b[1;32mimport\u001b[0m \u001b[0mre\u001b[0m\u001b[1;33m,\u001b[0m \u001b[0mstring\u001b[0m\u001b[1;33m,\u001b[0m \u001b[0mcsv\u001b[0m\u001b[1;33m,\u001b[0m \u001b[0municodedata\u001b[0m\u001b[1;33m,\u001b[0m \u001b[0mos\u001b[0m\u001b[1;33m,\u001b[0m \u001b[0mjson\u001b[0m\u001b[1;33m\u001b[0m\u001b[0m\n\u001b[0;32m----> 3\u001b[0;31m \u001b[1;32mimport\u001b[0m \u001b[0mslate\u001b[0m\u001b[1;33m\u001b[0m\u001b[0m\n\u001b[0m",
      "\u001b[0;31mModuleNotFoundError\u001b[0m: No module named 'slate'"
     ]
    }
   ],
   "source": [
    "from PyPDF2 import PdfFileWriter, PdfFileReader\n",
    "import re, string, csv, unicodedata, os, json\n",
    "import slate\n"
   ]
  },
  {
   "cell_type": "code",
   "execution_count": null,
   "metadata": {
    "collapsed": true
   },
   "outputs": [],
   "source": []
  },
  {
   "cell_type": "code",
   "execution_count": 4,
   "metadata": {
    "collapsed": true
   },
   "outputs": [],
   "source": [
    "# Helper Functions\n",
    "\n",
    "# get all the text from a pdf file\n",
    "def get_text_from_pdf(url):\n",
    "    with open(url, 'rb') as infile:\n",
    "        pdfFile = PdfFileReader(infile)\n",
    "        text = \" \".join(page.extractText() for page in pdfFile.pages) # extract text from all pages\n",
    "        text = unicodedata.normalize('NFKD', text).encode('ascii','ignore')  # normalise unicode\n",
    "        return text.decode()\n",
    "\n",
    "# Strip newlines and fix hyphenated names\n",
    "def fix_text(text):\n",
    "    text = re.sub(r\"\\s*\\n\\s*\", \" \", text) # strip newlines\n",
    "    text = re.sub(r\"(\\w)\\s*\\-\\s*(\\w)\", r\"\\1-\\2\", text)  # fix hyphenated names that have broken\n",
    "    return text.strip() # trim whitespace"
   ]
  },
  {
   "cell_type": "code",
   "execution_count": 52,
   "metadata": {
    "collapsed": true
   },
   "outputs": [],
   "source": [
    "#\\nFestival Statesmen Chorus\\nOnce Upon A Time\\nDing-Dong! The Witch Is Dead\n",
    "#\\n163\\n159\\n157\\n79.7\\n160\\n155\\n162\\n 2\\n2\\n26\\nAdelaide, SA\\n956\n",
    "chorus_re = re.compile(r'\\n(?P<name>.+)\\n(?P<title1>.+)\\n(?P<title2>.+)' + \n",
    "    r'\\n(?P<s1>\\d+)\\n(?P<m1>\\d+)\\n(?P<p1>\\d+)' +\n",
    "    r'\\n(?P<pc_score>\\d\\d\\.\\d)' +\n",
    "    r'\\n(?P<s2>\\d+)\\n(?P<m2>\\d+)\\n(?P<p2>\\d+)' +\n",
    "    r'\\n.*\\n(?P<rank>\\d+)\\n(?P<size>\\d+)\\n(?P<city>.+)\\n(?P<tot_score>\\d+)')\n",
    "\n",
    "def get_choruses(text):\n",
    "    for m in chorus_re.finditer(text):\n",
    "        chorus = {'type': 'chorus'}\n",
    "        chorus.update({key: m.group(key) for key in ('name', 'city', 'rank', 'tot_score', 'pc_score', 'size')})\n",
    "        chorus['songs'] = [{key: m.group(key + str(n)) for key in ('title', 'm', 's', 'p')} for n in range(1,2)]\n",
    "        yield chorus    \n"
   ]
  },
  {
   "cell_type": "code",
   "execution_count": 50,
   "metadata": {
    "collapsed": true
   },
   "outputs": [],
   "source": [
    "#Barbershop Harmony Australia\\nPerth Oct 2013\\nOpen Chorus\\nDate of Contest:\\n12-Oct-13\\n ... \\nPlace of Contest:\\nPerth WA\\n\n",
    "contest_re = re.compile(r'^(?P<assoc>.*)\\n(?P<district>.*)\\n(?P<contest>.*)\\nDate of Contest:\\n(?P<date>.*)[\\w\\W]*Place of Contest:\\n(?P<place>.*)\\n')\n",
    "\n",
    "def get_contest_details(text):\n",
    "    m = contest_re.search(text)\n",
    "    return {key: m.group(key) for key in ('assoc','district','contest','date','place')}\n",
    "    "
   ]
  },
  {
   "cell_type": "code",
   "execution_count": 366,
   "metadata": {
    "collapsed": false
   },
   "outputs": [],
   "source": [
    "# Extract judges and contest admin (CA) names from text\n",
    "def get_judges(text):\n",
    "    m = re.compile(r\"Music:(.*)\\n?(?:Performance|Presentation):(.*)\\n?Singing:(.*)\\n?(?:Admin|CA):(.*?)(?:\\n|Signed)\", \n",
    "                   re.DOTALL).search(text)\n",
    "    judges = []\n",
    "    judges.extend({'cat':'m', 'name':fix_text(n.strip())} for n in m.group(1).split(','))\n",
    "    judges.extend({'cat':'p', 'name':fix_text(n.strip())} for n in m.group(2).split(','))\n",
    "    judges.extend({'cat':'s', 'name':fix_text(n.strip())} for n in m.group(3).split(','))\n",
    "    judges.extend({'cat':'ca', 'name':fix_text(n.strip())} for n in m.group(4).split(','))\n",
    "    return judges"
   ]
  },
  {
   "cell_type": "code",
   "execution_count": 367,
   "metadata": {
    "collapsed": false
   },
   "outputs": [],
   "source": [
    "# Scrape all pdf files in the same directory\n",
    "\n",
    "directories = [#'LABBS/',\n",
    "               'BABS/']\n",
    "\n",
    "for directory in directories:\n",
    "    for filename in os.listdir(directory):\n",
    "        if filename.endswith(\".pdf\"): \n",
    "            # extract the raw text\n",
    "            text = get_text_from_pdf(os.path.join(directory, filename))\n",
    "            # choose the appropriate parsing functions depending on type of contest\n",
    "            if re.search('CHORUS', get_contest(text)):\n",
    "                get_contestants = get_choruses\n",
    "            elif re.search(r\"Previous \\([Bb]alanced\\)\", text):\n",
    "                get_contestants = get_quartets_final\n",
    "            else:\n",
    "                get_contestants = get_quartets\n",
    "            # parse the text, create object\n",
    "            contest = ({\n",
    "                'district':get_district(text),\n",
    "                'contest':get_contest(text),\n",
    "                'date':get_date(text),\n",
    "                'contestants':list(get_contestants(text)),\n",
    "                'judges':get_judges(text)\n",
    "            })\n",
    "            # save object as JSON\n",
    "            with open(os.path.join(directory, filename.replace('pdf', 'json')), 'w') as outfile:\n",
    "                json.dump(contest, outfile, indent=2)"
   ]
  },
  {
   "cell_type": "code",
   "execution_count": 63,
   "metadata": {
    "collapsed": false
   },
   "outputs": [
    {
     "data": {
      "text/plain": [
       "\"Barbershop Harmony AustraliaSunshine Region Toowoomba 2013 Open ChorusDate of Contest:27-Apr-13Note: Any performer that presents for evaluation only is not listed here.Contest ResultsPlace of Contest:Toowoomba QLDScores are shown as points awarded. Avg = 100 x Total/Maximum possible ContestantSongSingingMusicPres.Avg(%)ScoresRankSizeTotalSound ConnectionYou Are My SunshineHello My Baby75777675.3737675 1126Gold Coast, QLD452The BlendersIf You Love Me, Really Love MeThis Could be the Start of Something Big74747273.5737573 2252Gold Coast, QLD441Blenders Youth ChorusYou're Sixteen You're Beautiful And You're MBright Was The Night76737473.0717272 3314Gold Coast, QLD438High Altitude HarmonyYou Don't Know MeIt's Only A Paper Moon69666666.8686765 4430Toowoomba, QLD401The River City ClippersIf I Can DreamJust In Time61606161.0626260 5526Brisbane, QLD366Miner ChordsFrom The First Hello To The Last GoodbyeCabaret47484145.7455241 6617Ipswich, QLD274TiedThe Sunshine StatesmenAlexander's Ragtime BandShenandoah40514945.7404648 6722Sunshine Coast, QLD274TiedPenalties:Page 1 of 1Scorer.The Barbershop Competition Organiser.Dan MillgateIan Mulholland (Chair)Richard Reeve  CA: Vicki DonnellyACA: Bob ChartersSingingMusicPresentationThe JudgesAdmin. SupportContest ControlAdministratorsPDF created with pdfFactory trial version www.pdffactory.com\""
      ]
     },
     "execution_count": 63,
     "metadata": {},
     "output_type": "execute_result"
    }
   ],
   "source": [
    "# Debugging\n",
    "text = get_text_from_pdf('BHA/2013_BHA_NationalChorusOpen.pdf')\n",
    "list(get_choruses(text))\n",
    "get_contest_details(text)\n",
    "te"
   ]
  },
  {
   "cell_type": "raw",
   "metadata": {},
   "source": [
    "import textract\n",
    "textract.process('test.pdf', method='pdftotext')"
   ]
  },
  {
   "cell_type": "code",
   "execution_count": 86,
   "metadata": {
    "collapsed": false
   },
   "outputs": [
    {
     "data": {
      "text/plain": [
       "'1.5.0'"
      ]
     },
     "execution_count": 86,
     "metadata": {},
     "output_type": "execute_result"
    }
   ],
   "source": [
    "textract.VERSION"
   ]
  }
 ],
 "metadata": {
  "kernelspec": {
   "display_name": "Python 3",
   "language": "python",
   "name": "python3"
  },
  "language_info": {
   "codemirror_mode": {
    "name": "ipython",
    "version": 3
   },
   "file_extension": ".py",
   "mimetype": "text/x-python",
   "name": "python",
   "nbconvert_exporter": "python",
   "pygments_lexer": "ipython3",
   "version": "3.6.0"
  }
 },
 "nbformat": 4,
 "nbformat_minor": 0
}
