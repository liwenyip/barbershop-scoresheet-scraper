{
 "cells": [
  {
   "cell_type": "code",
   "execution_count": 392,
   "metadata": {
    "collapsed": false
   },
   "outputs": [],
   "source": [
    "from PyPDF2 import PdfFileWriter, PdfFileReader\n",
    "import re, string, csv, unicodedata, os, json, subprocess, pprint\n",
    "\n",
    "pp = pprint.PrettyPrinter(indent=4).pprint\n",
    "\n"
   ]
  },
  {
   "cell_type": "code",
   "execution_count": 393,
   "metadata": {
    "collapsed": false
   },
   "outputs": [],
   "source": [
    "# Convert PDF file to text; returns text as string\n",
    "def pdftotext(url):\n",
    "    texturl = url.replace('pdf', 'txt')\n",
    "    subprocess.run([r'C:\\Program Files\\Xpdf\\bin64\\pdftotext.exe', '-raw', url, texturl])\n",
    "    with open(texturl) as f:\n",
    "        return f.read()\n",
    "\n",
    "# Strip newlines and fix hyphenated names\n",
    "def fix_text(text):\n",
    "    text = re.sub(r\"\\s*\\n\\s*\", \" \", text) # strip newlines\n",
    "    text = re.sub(r\"(\\w)\\s*\\-\\s*(\\w)\", r\"\\1-\\2\", text)  # fix hyphenated names that have broken\n",
    "    return text.strip() # trim whitespace\n",
    "\n",
    "# Iterate through files in a list of directories\n",
    "def getfiles(directories, ext):\n",
    "    for directory in directories:\n",
    "        for filename in os.listdir(directory):\n",
    "            if filename.endswith(ext):\n",
    "                yield os.path.join(directory, filename)\n",
    "    "
   ]
  },
  {
   "cell_type": "code",
   "execution_count": 394,
   "metadata": {
    "collapsed": false
   },
   "outputs": [],
   "source": [
    "# DEBUG\n",
    "#get_contest_details(texts['BABS/2007QSF.pdf'])\n",
    "#texts['BABS/2007QSF.pdf']"
   ]
  },
  {
   "cell_type": "code",
   "execution_count": 395,
   "metadata": {
    "collapsed": true
   },
   "outputs": [],
   "source": [
    "# Extract contest details from text\n",
    "CONTEST_DETAILS = ('assoc', 'contest', 'location', 'year', 'date')\n",
    "def get_contest_details(text):\n",
    "    # (OFFICIAL CONTEST RESULT\\n)? and (\\d{2} \\w{3} 20\\d{2}) are unique to the 2009 files\n",
    "    r = r'^(?P<assoc>.*)\\n(OFFICIAL CONTEST RESULT\\n)?(?P<contest>.*) - (?P<location>.*): (?P<year>.*)\\n[\\w\\W]+(?P<date>\\d{2}/\\d{2}/20\\d{2}|\\d{2} \\w{3} 20\\d{2})'\n",
    "    m = re.compile(r).search(text)\n",
    "    return {key: m.group(key) for key in CONTEST_DETAILS}\n",
    "    \n",
    "# Check contest type\n",
    "def get_contest_type(text):\n",
    "    if re.search('CHORUS', text):\n",
    "        return 'chorus'\n",
    "    elif re.search(r\"Previous \\([Bb]alanced\\)\", text):\n",
    "        return 'quartet final'\n",
    "    else:\n",
    "        return 'quartet' \n",
    "    \n",
    "# Extract judges and contest admin (CA) names from text\n",
    "def get_judges(text):\n",
    "    keys = ('m', 'p', 's', 'ca')\n",
    "    r =  r'Music:(?: Rolling Panel:-)?(?P<m>.*)\\n?'\n",
    "    r += r'(?:Performance|Presentation):(?: Rolling Panel:-)?(?P<p>.*)\\n?'\n",
    "    r += r'Singing:(?: Rolling Panel:-)?(?P<s>.*)\\n?'\n",
    "    r += r'(?:Admin|CA|CoJ):(?: Rolling Panel:-)?(?P<ca>.*?)(?:\\n|Signed)'\n",
    "    m = re.compile(r, re.DOTALL).search(text)\n",
    "    judges = []\n",
    "    for key in keys:\n",
    "        judges.extend([{'cat':key, 'name':fix_text(n.strip())} for n in m.group(key).split(',')])\n",
    "    return judges"
   ]
  },
  {
   "cell_type": "code",
   "execution_count": 396,
   "metadata": {
    "collapsed": true
   },
   "outputs": [],
   "source": [
    "# Generic Regex Components\n",
    "\n",
    "# \\n889\\n\n",
    "# \\n1384\\n\n",
    "TOT_SCORE = r\"(?P<tot_score>\\d{3,4})\\s*\"\n",
    "\n",
    "# \\n1384.0\\n\n",
    "FINAL_TOT_SCORE = r\"(?P<final_tot_score>\\d{3,4})\\.\\d\\s*\"\n",
    "\n",
    "# Stars Fell On Alabama\\nFly Me To The Moon\\n\n",
    "SONGS = \"\".join(r\"(?P<%s>[^\\n]+)\\s\" % key for key in ('title1', 'title2'))\n",
    "\n",
    "# 228\\n223\\n229\\n225\\n231\\n227\\n\n",
    "# 252250247\\n244\\n247243111\\n\n",
    "CAT_SCORES = \"\".join(r\"(?P<%s>\\d{3})\\s*\" % key for key in ('m1', 'p1', 's1', 'm2', 'p2', 's2'))\n",
    "\n",
    "# Previous (balanced):\\n459.0\\n458.0\\n461.0\\n\n",
    "PREV_SCORES = r\"(?P<titleprev>Previous) \\([Bb]alanced\\):\\s?\" + \"\".join(r\"(?P<%s>\\d{3})\\.\\d\\s*\" % key for key in ('mprev', 'pprev', 'sprev'))\n",
    "\n",
    "# 1\\n1\\n1\\nCategory rankings:\\n\n",
    "# 111\\nCategory rankings:\\n\n",
    "CAT_RANKS = \"\".join(r\"(?P<%s>\\d{1,2})\\s*\" % key for key in ('rank_m', 'rank_p', 'rank_s')) + \"Category [Rr]ankings:\\n\"\n",
    "\n",
    "# 1: \n",
    "RANK = r\"(?P<rank>\\d+):\\s*\" \n",
    "\n",
    "# Chorus/Quartet name\n",
    "NAME = r\"(?P<name>[^\\(]+?)\\s*\" # Assumes name is followed by a (\n",
    "\n",
    "# (Sarah Hicks, Gill \\nIrwin, Julie Robinson,  Monica \\nFunnell)\n",
    "SINGERS = r\"\\((?P<tenor>[^\\.,]+?)[\\.,]\\s*(?P<lead>[^\\.,]+?)[\\.,]\\s*(?P<bari>[^\\.,]+?)[\\.,]\\s*(?P<bass>[^\\.,]+?)[\\.,]?\\)\\s*\"\n",
    "\n",
    "# (Jo Braham) \n",
    "DIRECTOR = r\"\\((?P<director>[^\\.,]+?)\\)\\s*\"\n",
    "\n",
    "# (47)\\n\n",
    "SIZE = r\"\\((?P<size>\\d{1,3})\\)\\s?\"\n",
    "\n",
    "# 82.3\n",
    "PC_SCORE = r\"(?P<pc_score>\\d\\d\\.\\d)\" "
   ]
  },
  {
   "cell_type": "code",
   "execution_count": 397,
   "metadata": {
    "collapsed": false
   },
   "outputs": [],
   "source": [
    "# Get details of chorus contestants\n",
    "def get_choruses(text):\n",
    "    l = []\n",
    "    keys = ('tot_score', 'rank_m', 'rank_s', 'rank_p', 'rank', 'name', 'director', 'size', 'pc_score')\n",
    "    r = TOT_SCORE + SONGS + CAT_SCORES + CAT_RANKS + RANK + NAME + DIRECTOR + SIZE + PC_SCORE\n",
    "    for m in re.compile(r).finditer(text):\n",
    "        x = {key: fix_text(m.group(key)) for key in keys}\n",
    "        x['songs'] = [{key: fix_text(m.group(key + str(n))) for key in ('title', 'm', 's', 'p')} for n in (1,2)]\n",
    "        l.append(x)\n",
    "    return l\n",
    "\n",
    "# Get details of quartet contestants\n",
    "def get_quartets(text):\n",
    "    l = []\n",
    "    keys = ('tot_score', 'rank_m', 'rank_s', 'rank_p', 'rank', 'name', 'pc_score')\n",
    "    r = TOT_SCORE + SONGS + CAT_SCORES + CAT_RANKS + RANK + NAME + SINGERS + PC_SCORE\n",
    "    for m in re.compile(r).finditer(text):\n",
    "        x = {key: fix_text(m.group(key)) for key in keys}\n",
    "        x['songs'] = [{key: fix_text(m.group(key + str(n))) for key in ('title', 'm', 's', 'p')} for n in (1,2)]\n",
    "        x['singers'] = [ {'part': key, 'name': fix_text(m.group(key))} for key in ('tenor', 'lead', 'bari', 'bass')]\n",
    "        l.append(x)\n",
    "    return l\n",
    "\n",
    "# Get details of quartet finals contestants\n",
    "def get_finals_quartets(text):\n",
    "    l = []\n",
    "    keys = ('tot_score', 'final_tot_score', 'rank_m', 'rank_s', 'rank_p', 'rank', 'name', 'pc_score')\n",
    "    r = TOT_SCORE + FINAL_TOT_SCORE + SONGS + CAT_SCORES + PREV_SCORES + CAT_RANKS + RANK + NAME + SINGERS + PC_SCORE\n",
    "    for m in re.compile(r).finditer(text):\n",
    "        x = {key: fix_text(m.group(key)) for key in keys}\n",
    "        x['songs'] = [{key: fix_text(m.group(key + str(n))) for key in ('title', 'm', 's', 'p')} for n in (1,2,'prev')]\n",
    "        x['singers'] = [ {'part': key, 'name': fix_text(m.group(key))} for key in ('tenor', 'lead', 'bari', 'bass')]\n",
    "        l.append(x)\n",
    "    return l\n",
    "\n",
    "# Parse texts, return one dict for each scoresheet\n",
    "def get_contests(texts):\n",
    "    for file, text in texts.items():\n",
    "        #print('reading %s' % file)\n",
    "        contest = get_contest_details(text)\n",
    "        contest['judges'] = get_judges(text)\n",
    "        contest['type'] = get_contest_type(text)\n",
    "        if contest['type'] == 'chorus':\n",
    "            contest['contestants'] = get_choruses(text)\n",
    "        elif contest['type'] == 'quartet final':\n",
    "            contest['contestants'] = get_finals_quartets(text)\n",
    "        else:\n",
    "            contest['contestants'] = get_quartets(text)\n",
    "        contest['filename'] = file\n",
    "        yield contest"
   ]
  },
  {
   "cell_type": "code",
   "execution_count": 398,
   "metadata": {
    "collapsed": false
   },
   "outputs": [],
   "source": [
    "# Read all the PDFs into a dict of strings\n",
    "directories = ['BABS/', 'LABBS/']\n",
    "texts = {}\n",
    "for file in getfiles(directories, 'pdf'):\n",
    "    texts[file] = pdftotext(file)"
   ]
  },
  {
   "cell_type": "code",
   "execution_count": 399,
   "metadata": {
    "collapsed": true
   },
   "outputs": [],
   "source": [
    "# Parse strings to list of contests\n",
    "contests = list(get_contests(texts))"
   ]
  },
  {
   "cell_type": "code",
   "execution_count": 401,
   "metadata": {
    "collapsed": false
   },
   "outputs": [],
   "source": [
    "# export to excel\n",
    "from pandas.io.json import json_normalize\n",
    "import pandas as pd\n",
    "\n",
    "dfs = []\n",
    "for contest in contests:\n",
    "    dfs.append(json_normalize(contest, 'contestants', ['assoc', 'contest', 'year', 'location', 'type', 'date', 'filename']))\n",
    "pd.concat(dfs).to_excel('by contestants.xlsx')\n",
    "\n",
    "dfs = []\n",
    "for contest in contests:\n",
    "    dfs.append(json_normalize(contest, \n",
    "                   ['contestants', 'songs'], \n",
    "                   ['assoc', 'contest', 'year', 'location', 'type', 'date', 'filename',\n",
    "                    ['contestant', 'name'],\n",
    "                    ['contestant', 'tot_score'],\n",
    "                    ['contestant', 'pc_score'],\n",
    "                    ['contestant', 'rank'],\n",
    "                   ]))\n",
    "pd.concat(dfs).to_excel('by songs.xlsx')"
   ]
  },
  {
   "cell_type": "code",
   "execution_count": 404,
   "metadata": {
    "collapsed": false
   },
   "outputs": [],
   "source": [
    "# export to JSON files\n",
    "for contest in contests:\n",
    "    with open(contest['filename'].replace('pdf', 'json'), 'w') as outfile:\n",
    "        json.dump(contest, outfile, indent=2)  "
   ]
  },
  {
   "cell_type": "code",
   "execution_count": null,
   "metadata": {
    "collapsed": false
   },
   "outputs": [],
   "source": [
    "# export to mongodb\n",
    "\n",
    "#import pymongo\n",
    "#MONGODB_PW = ''\n",
    "#client = pymongo.MongoClient(\"mongodb://admin:%s@scores-shard-00-00-h0xbs.mongodb.net:27017,scores-shard-00-01-h0xbs.mongodb.net:27017,scores-shard-00-02-h0xbs.mongodb.net:27017/<DATABASE>?ssl=true&replicaSet=scores-shard-0&authSource=admin\" % MONGODB_PW)\n",
    "#db = client.barbershop\n",
    "\n",
    "#for contest in contests:\n",
    "#    with open(file.replace('pdf', 'json'), 'w') as outfile:\n",
    "#        db.scores.insert_one(contest)\n",
    "        \n",
    "        "
   ]
  }
 ],
 "metadata": {
  "kernelspec": {
   "display_name": "Python 3",
   "language": "python",
   "name": "python3"
  },
  "language_info": {
   "codemirror_mode": {
    "name": "ipython",
    "version": 3
   },
   "file_extension": ".py",
   "mimetype": "text/x-python",
   "name": "python",
   "nbconvert_exporter": "python",
   "pygments_lexer": "ipython3",
   "version": "3.6.0"
  }
 },
 "nbformat": 4,
 "nbformat_minor": 0
}
