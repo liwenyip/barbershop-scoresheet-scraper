{
 "cells": [
  {
   "cell_type": "code",
   "execution_count": 329,
   "metadata": {
    "collapsed": false
   },
   "outputs": [],
   "source": [
    "from PyPDF2 import PdfFileWriter, PdfFileReader\n",
    "import re, string, csv, unicodedata, os, json\n"
   ]
  },
  {
   "cell_type": "code",
   "execution_count": 330,
   "metadata": {
    "collapsed": true
   },
   "outputs": [],
   "source": [
    "# Helper Functions\n",
    "\n",
    "# get all the text from a pdf file\n",
    "def get_text_from_pdf(url):\n",
    "    with open(url, 'rb') as infile:\n",
    "        pdfFile = PdfFileReader(infile)\n",
    "        text = \" \".join(page.extractText() for page in pdfFile.pages) # extract text from all pages\n",
    "        text = unicodedata.normalize('NFKD', text).encode('ascii','ignore')  # normalise unicode\n",
    "        return text.decode()\n",
    "\n",
    "# Strip newlines and fix hyphenated names\n",
    "def fix_text(text):\n",
    "    text = re.sub(r\"\\s*\\n\\s*\", \" \", text) # strip newlines\n",
    "    text = re.sub(r\"(\\w)\\s*\\-\\s*(\\w)\", r\"\\1-\\2\", text)  # fix hyphenated names that have broken\n",
    "    return text.strip() # trim whitespace"
   ]
  },
  {
   "cell_type": "code",
   "execution_count": 359,
   "metadata": {
    "collapsed": true
   },
   "outputs": [],
   "source": [
    "# Generic Regex Components\n",
    "\n",
    "# \\n889\\n\n",
    "# \\n1384\\n\n",
    "TOT_SCORE = r\"(\\d{3,4}|\\d{3,4}\\.\\d)\\n?\"\n",
    "\n",
    "# Stars Fell On Alabama\\nFly Me To The Moon\\n\n",
    "SONGS = r\"([^\\n]+)\\n\" * 2\n",
    "\n",
    "# If You Love Me Really Love MeCome Follow The Band\n",
    "BABS_SONGS = r\"([A-Z][^\\n]+[a-z])\\n?\" * 2\n",
    "\n",
    "# 228\\n223\\n229\\n225\\n231\\n227\\n\n",
    "# 252250247\\n244\\n247243111\\n\n",
    "CAT_SCORES = r\"(\\d{3})\\n?\" * 6 \n",
    "\n",
    "# Previous (balanced):\\n459.0\\n458.0\\n461.0\\n\n",
    "PREV_SCORES = r\"Previous \\([Bb]alanced\\):\\n?\" + \"(\\d\\d\\d\\.\\d)\\n?\" * 3\n",
    "\n",
    "# 1\\n1\\n1\\nCategory rankings:\\n\n",
    "# 111\\nCategory rankings:\\n\n",
    "CAT_RANKS = r\"(\\d{1,2})\\n?\" * 3 + \"Category [Rr]ankings:\\n\"\n",
    "\n",
    "# 1: \n",
    "PLACE = r\"(\\d+):\\s*\" \n",
    "\n",
    "NAME = r\"([^\\(]+?)\\s*\" # Assumes name is followed by a (\n",
    "\n",
    "# (Sarah Hicks, Gill \\nIrwin, Julie Robinson,  Monica \\nFunnell)\n",
    "SINGERS = r\"\\(\" + r\"(.+?)[\\.,]\\s*\" * 3 + r\"(.+?)[\\.,]?\\)\\s*\"\n",
    "\n",
    "# (Jo Braham) \n",
    "DIRECTOR = r\"\\((.+?)\\)[\\n\\s]*\"\n",
    "\n",
    "# (47)\\n\n",
    "PAX = r\"\\((\\d{1,3})\\)\\n?\"\n",
    "\n",
    "# 82.3\n",
    "PC_SCORE = r\"(\\d\\d\\.\\d)\" "
   ]
  },
  {
   "cell_type": "code",
   "execution_count": 332,
   "metadata": {
    "collapsed": true
   },
   "outputs": [],
   "source": [
    "# LABBS QF (showing scores from previous round)\n",
    "# \\n1363\\n2741.0\\nStars Fell On Alabama\\nFly Me To The Moon\\n\n",
    "# 228\\n223\\n229\\n225\\n231\\n227\\n\n",
    "# Previous (balanced):\\n459.0\\n458.0\\n461.0\\n1\\n1\\n1\\nCategory rankings:\\n\n",
    "# 1: Pzazz  (Sarah Hicks, Gill \\nIrwin, Julie Robinson,  Monica \\nFunnell)\\n76.1\\n\n",
    "labbs_qf_re = re.compile(TOT_SCORE * 2 + BABS_SONGS + CAT_SCORES + PREV_SCORES + CAT_RANKS + PLACE + NAME + SINGERS + PC_SCORE, re.DOTALL)\n",
    "\n",
    "def get_quartets_final(text):\n",
    "    for m in labbs_qf_re.finditer(text):\n",
    "        thisround_score, tot_score, title1, title2, \\\n",
    "        mus1, mus2, prs1, prs2, sng1, sng2, \\\n",
    "        mus_prev, prs_prev, sng_prev, mus_rank, prs_rank, sng_rank, \\\n",
    "        place, name, tenor, lead, bari, bass, pc_score = (fix_text(t) for t in m.groups())\n",
    "\n",
    "        yield {\n",
    "            'name':name,\n",
    "            'type':'quartet',\n",
    "            'place':place,\n",
    "            'tot_score':tot_score,\n",
    "            'pc_score':pc_score,\n",
    "            'singers': [\n",
    "                {'name':tenor, 'part':'tenor'},\n",
    "                {'name':lead, 'part':'lead'},\n",
    "                {'name':bari, 'part':'bari'},\n",
    "                {'name':bass, 'part':'bass'},\n",
    "            ],\n",
    "            'songs': [\n",
    "                {'song':title1, 'mus':mus1, 'prs':prs1, 'sng':sng1},\n",
    "                {'song':title2, 'mus':mus2, 'prs':prs2, 'sng':sng2},\n",
    "                {'song':'Previous (balanced)', 'mus':mus_prev, 'prs':prs_prev, 'sng':sng_prev},\n",
    "            ]\n",
    "        }    "
   ]
  },
  {
   "cell_type": "code",
   "execution_count": 333,
   "metadata": {
    "collapsed": true
   },
   "outputs": [],
   "source": [
    "# LABBS QP / MQF\n",
    "# \\n889\\nIf Ever I Would Leave You\\nLook At Me Now\\n\n",
    "# 149\\n146\\n154\\n153\\n143\\n144\\n1\\n1\\n1\\nCategory rankings:\\n\n",
    "# 1: The Mix  (Andrea Day, Jo \\nBraham, Nancy Kelsall, Sandra \\nLea-Riley)\\n74.1\\n\n",
    "labbs_q_re = re.compile(TOT_SCORE + SONGS + CAT_SCORES + CAT_RANKS + PLACE + NAME + SINGERS + PC_SCORE, re.DOTALL)\n",
    "\n",
    "# \\n1418\\nThere I've Said It AgainWouldn't It Be Lovely234242233\\n236\\n235238112\\n\n",
    "# Category rankings:\\n1: Portobello Road  (Ian James, Brian Schofield, Steve Emery, \\n\\nStuart Owen)\\n78.8\n",
    "\n",
    "# 936A Fool Such As IOnce Upon A Time154158156\\n157\\n153158122\\n\n",
    "# Category rankings:\\n2: The Locksmiths  (Richard Fisher, Simon Lubkowski, Zac \\n\\nBooles, Andrew Walker)\\n78.0\n",
    "\n",
    "babs_q_re = re.compile(TOT_SCORE + BABS_SONGS + CAT_SCORES + CAT_RANKS + PLACE + NAME + SINGERS + PC_SCORE, re.DOTALL)\n",
    "\n",
    "def get_quartets(text):\n",
    "    if re.search('LADIES', get_district(text)):\n",
    "        r = labbs_q_re\n",
    "    else:\n",
    "        r = babs_q_re\n",
    "    for m in r.finditer(text):\n",
    "        tot_score, title1, title2, \\\n",
    "        mus1, mus2, prs1, prs2, sng1, sng2, \\\n",
    "        mus_rank, prs_rank, sng_rank, \\\n",
    "        place, name, tenor, lead, bari, bass, pc_score = (fix_text(t) for t in m.groups())\n",
    "\n",
    "        yield {\n",
    "            'name':name,\n",
    "            'type':'quartet',\n",
    "            'place':place,\n",
    "            'tot_score':tot_score,\n",
    "            'pc_score':pc_score,\n",
    "            'singers': [\n",
    "                {'name':tenor, 'part':'tenor'},\n",
    "                {'name':lead, 'part':'lead'},\n",
    "                {'name':bari, 'part':'bari'},\n",
    "                {'name':bass, 'part':'bass'},\n",
    "            ],\n",
    "            'songs': [\n",
    "                {'song':title1, 'mus':mus1, 'prs':prs1, 'sng':sng1},\n",
    "                {'song':title2, 'mus':mus2, 'prs':prs2, 'sng':sng2},\n",
    "            ]\n",
    "        }    "
   ]
  },
  {
   "cell_type": "code",
   "execution_count": 334,
   "metadata": {
    "collapsed": true
   },
   "outputs": [],
   "source": [
    "# LABBS CF\n",
    "# \\n1448\\nHow'dja Like To Love Me?\\nIf You Love Me Really Love Me\\n\n",
    "# 241\\n241\\n242\\n240\\n242\\n242\\n1\\n1\\n1\\nCategory rankings:\\n\n",
    "# 1: Cheshire Chord Company  \\n(Jo Braham) (47)\\n80.4\\n\n",
    "labbs_c_re = re.compile(TOT_SCORE + SONGS + CAT_SCORES + CAT_RANKS + PLACE + NAME + DIRECTOR + PAX + PC_SCORE, re.DOTALL)\n",
    "\n",
    "# BABS CF\n",
    "# \\n1483\\nIf You Love Me Really Love MeCome Follow The Band252250247\\n244\\n247243111\\n\n",
    "# Category rankings:\\n1: The Cottontown Chorus  \\n(Neil Firth) (62)82.4\n",
    "babs_c_re = re.compile(TOT_SCORE + BABS_SONGS + CAT_SCORES + CAT_RANKS + PLACE + NAME + DIRECTOR + PAX + PC_SCORE, re.DOTALL)\n",
    "\n",
    "def get_choruses(text):\n",
    "    if re.search('LADIES', get_district(text)):\n",
    "        r = labbs_c_re\n",
    "    else:\n",
    "        r = babs_c_re\n",
    "    for m in r.finditer(text):\n",
    "        tot_score, title1, title2, \\\n",
    "        mus1, mus2, prs1, prs2, sng1, sng2, \\\n",
    "        mus_rank, prs_rank, sng_rank, \\\n",
    "        place, name, director, singers, pc_score = (fix_text(t) for t in m.groups())\n",
    "\n",
    "        yield {\n",
    "            'name':name,\n",
    "            'type':'chorus',\n",
    "            'place':place,\n",
    "            'tot_score':tot_score,\n",
    "            'pc_score':pc_score,\n",
    "            'director':director,\n",
    "            'singers':singers,\n",
    "            'songs': [\n",
    "                {'song':title1, 'm':mus1, 'p':prs1, 's':sng1},\n",
    "                {'song':title2, 'm':mus2, 'p':prs2, 's':sng2},\n",
    "            ]\n",
    "        }    "
   ]
  },
  {
   "cell_type": "code",
   "execution_count": 335,
   "metadata": {
    "collapsed": false
   },
   "outputs": [],
   "source": [
    "# Extract judges and contest admin (CA) names from text\n",
    "def get_judges(text):\n",
    "    m = re.compile(r\"Music:(.*)\\n?(?:Performance|Presentation):(.*)\\n?Singing:(.*)\\n?(?:Admin|CA):(.*?)(?:\\n|Signed)\", \n",
    "                   re.DOTALL).search(text)\n",
    "    judges = []\n",
    "    judges.extend({'cat':'m', 'name':fix_text(n.strip())} for n in m.group(1).split(','))\n",
    "    judges.extend({'cat':'p', 'name':fix_text(n.strip())} for n in m.group(2).split(','))\n",
    "    judges.extend({'cat':'s', 'name':fix_text(n.strip())} for n in m.group(3).split(','))\n",
    "    judges.extend({'cat':'ca', 'name':fix_text(n.strip())} for n in m.group(4).split(','))\n",
    "    return judges\n",
    "\n",
    "# Extract contest date from text\n",
    "def get_date(text):\n",
    "    m = re.compile(r\"Contest date:\\s*(.*)\\s*\").search(text)\n",
    "    return fix_text(m.group(1))\n",
    "\n",
    "# Extract contest name from text\n",
    "def get_contest(text):\n",
    "    m = re.compile(r\".*\\n(.*)\").match(text)\n",
    "    return fix_text(m.group(1))\n",
    "\n",
    "# Extract district name from text\n",
    "def get_district(text):\n",
    "    m = re.compile(r\"(.*)\").match(text)\n",
    "    return fix_text(m.group(1))"
   ]
  },
  {
   "cell_type": "code",
   "execution_count": 336,
   "metadata": {
    "collapsed": false
   },
   "outputs": [],
   "source": [
    "# Scrape all pdf files in the same directory\n",
    "\n",
    "directories = [#'LABBS/',\n",
    "               'BABS/']\n",
    "\n",
    "for directory in directories:\n",
    "    for filename in os.listdir(directory):\n",
    "        if filename.endswith(\".pdf\"): \n",
    "            # extract the raw text\n",
    "            text = get_text_from_pdf(os.path.join(directory, filename))\n",
    "            # choose the appropriate parsing functions depending on type of contest\n",
    "            if re.search('CHORUS', get_contest(text)):\n",
    "                get_contestants = get_choruses\n",
    "            elif re.search(r\"Previous \\([Bb]alanced\\)\", text):\n",
    "                get_contestants = get_quartets_final\n",
    "            else:\n",
    "                get_contestants = get_quartets\n",
    "            # parse the text, create object\n",
    "            contest = ({\n",
    "                'district':get_district(text),\n",
    "                'contest':get_contest(text),\n",
    "                'date':get_date(text),\n",
    "                'contestants':list(get_contestants(text)),\n",
    "                'judges':get_judges(text)\n",
    "            })\n",
    "            # save object as JSON\n",
    "            with open(os.path.join(directory, filename.replace('pdf', 'json')), 'w') as outfile:\n",
    "                json.dump(contest, outfile, indent=2)"
   ]
  },
  {
   "cell_type": "code",
   "execution_count": 358,
   "metadata": {
    "collapsed": false
   },
   "outputs": [
    {
     "data": {
      "text/plain": [
       "\"THE BRITISH ASSOCIATION OF BARBERSHOP SINGERS\\nQUARTET PRELIM CONTEST 1  -  BIRMINGHAM: 2014/2015\\nOFFICIAL CONTEST RESULT\\nScores from semi-finals are normalised to take account of any panel size differences\\n. Decimal fractions may therefore exist.\\nCategory rankings are calculated on the category to\\ntals including previous scores where these exist.\\nCategory scores reflect any score reduc\\ntions. Reductions are shown in bracke\\nts under column headers MR, PR and SR.MusPresSingTotals\\n%Ch.Pen\\nSongsContestantMRPR\\n948Over The RainbowSouth Rampart Street Parade150155165\\n163\\n158157211\\nCategory rankings:\\n1: Finest Hour  (James Williams, Eddie Williams, Nick \\nWilliams, Phil Cuthbert)79.0936A Fool Such As IOnce Upon A Time154158156\\n157\\n153158122\\nCategory rankings:\\n2: The Locksmiths  (Richard Fisher, Simon Lubkowski, Zac \\n\\nBooles, Andrew Walker)\\n78.0900You Make Me Feel So YoungLove Me And The World Is Mine152153150\\n149\\n147149245\\nCategory rankings:\\n3: Quantum  (Simon Hunt, Guy \\nDowling, Peter Nugent, Jon \\n\\nDawson)\\n75.0878Ain't That A Kick In The HeadLove Me And The World Is Mine142146142\\n146\\n150152553\\nCategory rankings:\\n4: Hustle  (Neil Firth, Giovanni \\nArsciwals, Scott Tatton, Dale \\n\\nThompson)73.2874For Once In My Life\\nAin't That A Kick In The Head141135150\\n150\\n152146634\\nCategory rankings:\\n5: Tagline  (Ben Ferguson, James Gower-Smith, Chris \\n\\nLangworthy, Rob Foot)\\n72.8852It's Only A Paper MoonI Won't Send Roses144147134\\n142\\n143142476\\nCategory rankings:\\n6: The Simpletones  (Nick Pawley, Simon Lubkowski, Nik \\n\\nRobinson, Ian White)71.0808I Can't Give You Anything But LoveIf I Had My Way\\n134133138\\n139\\n134130868\\nCategory rankings:\\n7: Identity  (Sam Hubbard, \\nPeter Bryant, Ash Baker, \\n\\nGeorge Turner)67.3805Happy Together / Something GoodSmile129137137\\n139\\n130133979\\nCategory rankings:\\n8: Proper Sound  (Luke Freeney, Danny Gortler, Phil \\n\\nGlenny, Joseph O'Leary)\\n67.1(- 13)796There Goes My HeartRoses Of Picardy\\n134132128\\n131\\n1341379127\\nCategory rankings:\\n9: New Tricks  (Peter Kennedy, \\nDavid Tanner, John Ward, Jon \\n\\nConway)\\n66.3 MusPresSingTotals\\n%Ch.Pen\\nSongsContestantMRPR\\n792What'll I DoYou're Nobody 'Til Somebody Loves You137138131\\n136\\n12712371010\\nCategory rankings:\\n10: Blue Ray  (Stephen Green, \\nErik Kerr, Giles Ratcliffe, Alan \\n\\nLamprell)66.0774You Brought A New Kind Of Love To MeAmong My Souvenirs133133127\\n131\\n12612491410\\nCategory rankings:\\n11: GSOH  (Peter Sayer, David \\nTanner, Mark Soave, John \\n\\nRiseborough)64.5772Rain MedleyWhat'll I Do127133131\\n135\\n123123121113\\nCategory rankings:\\n12: The Troubadours  (Steve \\nCox, Andy McPhee, Dan \\n\\nCourse, Rob Barber)64.3768You Brought A New Kind Of Love To MeIf I Love Again126127135\\n139\\n11912215915\\nCategory rankings:\\n13: The Quadranauts  (Martyn \\nLapworth, Bill Payne, Andy \\n\\nDouglas, Tom Jeffries)64.0757Wait Till The Sun Shines, NellieZip -  A - Dee - Doodah127128124\\n128\\n125125141510\\nCategory rankings:\\n14: Ru Pattie and the Jazz Quintet  (Sam Hubbard, Peter \\nBryant, Nick Bryant, Ru Pattie)\\n63.1750Story Of The Bari (Heart Of My Heart) ParodyGoodbye My Coney Island Baby126130126\\n126\\n121121131514\\nCategory rankings:\\n15: The UniSons  (Josh Smith, Robert Reed, Jonathan Pipe, \\nNick Hoare)62.5736Mona LisaFit As A Fiddle123123132\\n127\\n117114161221\\nCategory rankings:\\n16: The Moondogs  (Vaughan Dooley, Jonny Coulter, Dean \\n\\nWhitehouse, Mike Swinbourne)\\n61.3734Love MeYou're Sixteen119126123\\n127\\n120119171716\\nCategory rankings:\\n17: The Accidentals  (Billy \\nPenny, Ben Northam, Joe \\n\\nSavage, Joe Lynock)\\n61.2724The Sunshine Of Your SmileAfter You've Gone121119124\\n124\\n119117181820\\nCategory rankings:\\n18: Qnatural  (Alex Sanctuary, \\nDeclan Lees-Smith, Jams \\nWhittick, Alexander de Bruin)\\n60.3721Hello My BabyTime After Time119118126\\n119\\n120119212016\\nCategory rankings:\\n19: The PostMen  (Nick Pawley, \\nMark Smith, Nik Robinson, \\nJonny Beeden)\\n60.1713The Chordbuster MarchWhere The Southern Roses Grow119121117\\n119\\n120117182219\\nCategory rankings:\\n20: Four's A Crowd  (Sam \\nHubbard, Tom Rushton, Sam \\nWilliams, Harry Little)\\n59.4 MusPresSingTotals\\n%Ch.Pen\\nSongsContestantMRPR\\n710Sentimental JourneyBare Necessities\\n121119123\\n123\\n113111181922\\nCategory rankings:\\n21: Four on the Floor  (Antonio \\nGalli, Dyrck Lamble, Dave \\n\\nGeorge, Steve Dumble)\\n59.2691Love MeAre You Lonesome Tonight?116109116\\n112\\n122116232418\\nCategory rankings:\\n22: Contraband  (Lee White, Rob Jones, Rob Bennett, Jason \\nWard)57.6689AlwaysAlmost Like Being In Love114112116\\n123\\n110114222122\\nCategory rankings:\\n23: Cantorum  (Tim Sowter, \\nPeter Wigington, Frank Jans, \\nJohn Williams)57.4668Among My SouvenirsHappy Days And Lonely Nights109108114\\n118\\n110109252325\\nCategory rankings:\\n24: Tonic  (Craig Kehoe, Mark Giand, Paul Hargest, Ian \\nMaslen)55.7665What'll I DoAfter You've Gone112109113\\n111\\n110110242524\\nCategory rankings:\\n25: RESOLUTION  (Jez Knowles, Liam Buswell, Philip \\n\\nPaine, Peter Crookson)55.4606Lover Come BackAlexander's Ragtime Band10098104\\n104\\n100100262626\\nCategory rankings:\\n26: EKCetera  (Matthew \\nMeredith, Mike Tredway, \\n\\nLindley Gram, David Holloway)\\n50.5Music: David Morehen, Helen Brown\\nPresentation: Bob Walker, Lucy Van De Ven\\nSinging: Cherry Hartshorn, Barry Hine\\nCA: Phil Mobsby, Alastair Tayl\\nor-Payne, Dick Knight, Helen Ring\\nSigned__________________________________________________________________Contest date: 16/11/2014\\nThis report was produced for The British Association Of Barber\\nshop Singers using Barbershop Scores contest management software.\\n\""
      ]
     },
     "execution_count": 358,
     "metadata": {},
     "output_type": "execute_result"
    }
   ],
   "source": [
    "# Debugging\n",
    "text = get_text_from_pdf('BABS/2014QP-1.pdf')\n",
    "# text = \"Music: Helen Brown, Rob Campbell, Paul Davies\\nPresentation: Pat Deeble, Nickie James, Mike WarnerSinging: Cherry Hartshorn,\\n David King, Mike Taylor\\nCA: Chris Tideman, Samantha Roberts, Helen Ring, Yvonne Hughes, Phil Mobsby, Alastair Taylor-Payne\\n\"\n",
    "# text = \"936A Fool Such As iOnce Upon A Time154158156\\n157\\n153158122\\nCategory rankings:\\n2: The Locksmiths  (Richard Fisher, Simon Lubkowski, Zac Booles, Andrew Walker)\\n78.0\"\n",
    "\n",
    "\n",
    "text"
   ]
  }
 ],
 "metadata": {
  "kernelspec": {
   "display_name": "Python 3",
   "language": "python",
   "name": "python3"
  },
  "language_info": {
   "codemirror_mode": {
    "name": "ipython",
    "version": 3
   },
   "file_extension": ".py",
   "mimetype": "text/x-python",
   "name": "python",
   "nbconvert_exporter": "python",
   "pygments_lexer": "ipython3",
   "version": "3.6.0"
  }
 },
 "nbformat": 4,
 "nbformat_minor": 0
}
