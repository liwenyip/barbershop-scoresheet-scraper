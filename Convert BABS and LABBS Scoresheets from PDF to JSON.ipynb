{
 "cells": [
  {
   "cell_type": "code",
   "execution_count": 265,
   "metadata": {
    "collapsed": false
   },
   "outputs": [],
   "source": [
    "from PyPDF2 import PdfFileWriter, PdfFileReader\n",
    "import re, string, csv, unicodedata, os, json\n"
   ]
  },
  {
   "cell_type": "code",
   "execution_count": 266,
   "metadata": {
    "collapsed": true
   },
   "outputs": [],
   "source": [
    "# Helper Functions\n",
    "\n",
    "# get all the text from a pdf file\n",
    "def get_text_from_pdf(url):\n",
    "    with open(url, 'rb') as infile:\n",
    "        pdfFile = PdfFileReader(infile)\n",
    "        text = \" \".join(page.extractText() for page in pdfFile.pages) # extract text from all pages\n",
    "        text = unicodedata.normalize('NFKD', text).encode('ascii','ignore')  # normalise unicode\n",
    "        return text.decode()\n",
    "\n",
    "# Strip newlines and fix hyphenated names\n",
    "def fix_text(text):\n",
    "    text = re.sub(r\"\\s*\\n\\s*\", \" \", text) # strip newlines\n",
    "    text = re.sub(r\"(\\w)\\s*\\-\\s*(\\w)\", r\"\\1-\\2\", text)  # fix hyphenated names that have broken\n",
    "    return text.strip() # trim whitespace"
   ]
  },
  {
   "cell_type": "code",
   "execution_count": 267,
   "metadata": {
    "collapsed": true
   },
   "outputs": [],
   "source": [
    "# Generic Regex Components\n",
    "\n",
    "# \\n889\\n\n",
    "# \\n1384\\n\n",
    "TOT_SCORE = r\"(\\d{3,4}|\\d{3,4}\\.\\d)\\n\"\n",
    "\n",
    "# Stars Fell On Alabama\\nFly Me To The Moon\\n\n",
    "SONGS = r\"([^\\n]+)\\n\" * 2\n",
    "\n",
    "# If You Love Me Really Love MeCome Follow The Band\n",
    "BABS_SONGS = r\"([A-Z][^\\n]+[a-z])\" * 2 + r\"\\n?\"\n",
    "\n",
    "# 228\\n223\\n229\\n225\\n231\\n227\\n\n",
    "# 252250247\\n244\\n247243111\\n\n",
    "CAT_SCORES = r\"(\\d{3})\\n?\" * 6 \n",
    "\n",
    "# Previous (balanced):\\n459.0\\n458.0\\n461.0\\n\n",
    "PREV_SCORES = r\"Previous \\([Bb]alanced\\):\\n\" + \"(\\d\\d\\d\\.\\d)\\n?\" * 3\n",
    "\n",
    "# 1\\n1\\n1\\nCategory rankings:\\n\n",
    "# 111\\nCategory rankings:\\n\n",
    "CAT_RANKS = r\"(\\d{1,2})\\n?\" * 3 + \"Category [Rr]ankings:\\n\"\n",
    "\n",
    "# 1: \n",
    "PLACE = r\"(\\d+):\\s*\" \n",
    "\n",
    "NAME = r\"([^\\(]+?)\\s*\" # Assumes name is followed by a (\n",
    "\n",
    "# (Sarah Hicks, Gill \\nIrwin, Julie Robinson,  Monica \\nFunnell)\n",
    "SINGERS = r\"\\(\" + r\"(.+?)[\\.,]\\s*\" * 3 + r\"(.+?)[\\.,]?\\)\\s*\"\n",
    "\n",
    "# (Jo Braham) \n",
    "DIRECTOR = r\"\\((.+?)\\)[\\n\\s]*\"\n",
    "\n",
    "# (47)\\n\n",
    "PAX = r\"\\((\\d{1,3})\\)\\n?\"\n",
    "\n",
    "# 82.3\n",
    "PC_SCORE = r\"(\\d\\d\\.\\d)\" "
   ]
  },
  {
   "cell_type": "code",
   "execution_count": 268,
   "metadata": {
    "collapsed": true
   },
   "outputs": [],
   "source": [
    "# LABBS QF (showing scores from previous round)\n",
    "# \\n1363\\n2741.0\\nStars Fell On Alabama\\nFly Me To The Moon\\n\n",
    "# 228\\n223\\n229\\n225\\n231\\n227\\n\n",
    "# Previous (balanced):\\n459.0\\n458.0\\n461.0\\n1\\n1\\n1\\nCategory rankings:\\n\n",
    "# 1: Pzazz  (Sarah Hicks, Gill \\nIrwin, Julie Robinson,  Monica \\nFunnell)\\n76.1\\n\n",
    "labbs_qf_re = re.compile(TOT_SCORE * 2 + BABS_SONGS + CAT_SCORES + PREV_SCORES + CAT_RANKS + PLACE + NAME + SINGERS + PC_SCORE, re.DOTALL)\n",
    "\n",
    "def get_quartets_final(text):\n",
    "    for m in labbs_qf_re.finditer(text):\n",
    "        thisround_score, tot_score, title1, title2, \\\n",
    "        mus1, mus2, prs1, prs2, sng1, sng2, \\\n",
    "        mus_prev, prs_prev, sng_prev, mus_rank, prs_rank, sng_rank, \\\n",
    "        place, name, tenor, lead, bari, bass, pc_score = (fix_text(t) for t in m.groups())\n",
    "\n",
    "        yield {\n",
    "            'name':name,\n",
    "            'type':'quartet',\n",
    "            'place':place,\n",
    "            'tot_score':tot_score,\n",
    "            'pc_score':pc_score,\n",
    "            'singers': [\n",
    "                {'name':tenor, 'part':'tenor'},\n",
    "                {'name':lead, 'part':'lead'},\n",
    "                {'name':bari, 'part':'bari'},\n",
    "                {'name':bass, 'part':'bass'},\n",
    "            ],\n",
    "            'songs': [\n",
    "                {'song':title1, 'mus':mus1, 'prs':prs1, 'sng':sng1},\n",
    "                {'song':title2, 'mus':mus2, 'prs':prs2, 'sng':sng2},\n",
    "                {'song':'Previous (balanced)', 'mus':mus_prev, 'prs':prs_prev, 'sng':sng_prev},\n",
    "            ]\n",
    "        }    "
   ]
  },
  {
   "cell_type": "code",
   "execution_count": 269,
   "metadata": {
    "collapsed": true
   },
   "outputs": [],
   "source": [
    "# LABBS QP / MQF\n",
    "# \\n889\\nIf Ever I Would Leave You\\nLook At Me Now\\n\n",
    "# 149\\n146\\n154\\n153\\n143\\n144\\n1\\n1\\n1\\nCategory rankings:\\n\n",
    "# 1: The Mix  (Andrea Day, Jo \\nBraham, Nancy Kelsall, Sandra \\nLea-Riley)\\n74.1\\n\n",
    "labbs_q_re = re.compile(TOT_SCORE + SONGS + CAT_SCORES + CAT_RANKS + PLACE + NAME + SINGERS + PC_SCORE, re.DOTALL)\n",
    "\n",
    "# \\n1418\\nThere I've Said It AgainWouldn't It Be Lovely234242233\\n236\\n235238112\\n\n",
    "# Category rankings:\\n1: Portobello Road  (Ian James, Brian Schofield, Steve Emery, \\n\\nStuart Owen)\\n78.8\n",
    "babs_q_re = re.compile(TOT_SCORE + BABS_SONGS + CAT_SCORES + CAT_RANKS + PLACE + NAME + SINGERS + PC_SCORE, re.DOTALL)\n",
    "\n",
    "def get_quartets(text):\n",
    "    if re.search('LADIES', get_district(text)):\n",
    "        r = labbs_q_re\n",
    "    else:\n",
    "        r = babs_q_re\n",
    "    for m in r.finditer(text):\n",
    "        tot_score, title1, title2, \\\n",
    "        mus1, mus2, prs1, prs2, sng1, sng2, \\\n",
    "        mus_rank, prs_rank, sng_rank, \\\n",
    "        place, name, tenor, lead, bari, bass, pc_score = (fix_text(t) for t in m.groups())\n",
    "\n",
    "        yield {\n",
    "            'name':name,\n",
    "            'type':'quartet',\n",
    "            'place':place,\n",
    "            'tot_score':tot_score,\n",
    "            'pc_score':pc_score,\n",
    "            'singers': [\n",
    "                {'name':tenor, 'part':'tenor'},\n",
    "                {'name':lead, 'part':'lead'},\n",
    "                {'name':bari, 'part':'bari'},\n",
    "                {'name':bass, 'part':'bass'},\n",
    "            ],\n",
    "            'songs': [\n",
    "                {'song':title1, 'mus':mus1, 'prs':prs1, 'sng':sng1},\n",
    "                {'song':title2, 'mus':mus2, 'prs':prs2, 'sng':sng2},\n",
    "            ]\n",
    "        }    "
   ]
  },
  {
   "cell_type": "code",
   "execution_count": 270,
   "metadata": {
    "collapsed": true
   },
   "outputs": [],
   "source": [
    "# LABBS CF\n",
    "# \\n1448\\nHow'dja Like To Love Me?\\nIf You Love Me Really Love Me\\n\n",
    "# 241\\n241\\n242\\n240\\n242\\n242\\n1\\n1\\n1\\nCategory rankings:\\n\n",
    "# 1: Cheshire Chord Company  \\n(Jo Braham) (47)\\n80.4\\n\n",
    "labbs_c_re = re.compile(TOT_SCORE + SONGS + CAT_SCORES + CAT_RANKS + PLACE + NAME + DIRECTOR + PAX + PC_SCORE, re.DOTALL)\n",
    "\n",
    "# BABS CF\n",
    "# \\n1483\\nIf You Love Me Really Love MeCome Follow The Band252250247\\n244\\n247243111\\n\n",
    "# Category rankings:\\n1: The Cottontown Chorus  \\n(Neil Firth) (62)82.4\n",
    "babs_c_re = re.compile(TOT_SCORE + BABS_SONGS + CAT_SCORES + CAT_RANKS + PLACE + NAME + DIRECTOR + PAX + PC_SCORE, re.DOTALL)\n",
    "\n",
    "def get_choruses(text):\n",
    "    if re.search('LADIES', get_district(text)):\n",
    "        r = labbs_c_re\n",
    "    else:\n",
    "        r = babs_c_re\n",
    "    for m in r.finditer(text):\n",
    "        tot_score, title1, title2, \\\n",
    "        mus1, mus2, prs1, prs2, sng1, sng2, \\\n",
    "        mus_rank, prs_rank, sng_rank, \\\n",
    "        place, name, director, singers, pc_score = (fix_text(t) for t in m.groups())\n",
    "\n",
    "        yield {\n",
    "            'name':name,\n",
    "            'type':'chorus',\n",
    "            'place':place,\n",
    "            'tot_score':tot_score,\n",
    "            'pc_score':pc_score,\n",
    "            'director':director,\n",
    "            'singers':singers,\n",
    "            'songs': [\n",
    "                {'song':title1, 'm':mus1, 'p':prs1, 's':sng1},\n",
    "                {'song':title2, 'm':mus2, 'p':prs2, 's':sng2},\n",
    "            ]\n",
    "        }    "
   ]
  },
  {
   "cell_type": "code",
   "execution_count": 304,
   "metadata": {
    "collapsed": false
   },
   "outputs": [],
   "source": [
    "# Extract judges and contest admin (CA) names from text\n",
    "def get_judges(text):\n",
    "    m = re.compile(r\"Music:(.*)\\n?(?:Performance|Presentation):(.*)\\n?Singing:(.*)\\n?(?:Admin|CA):(.*?)(?:\\n|Signed)\", \n",
    "                   re.DOTALL).search(text)\n",
    "    judges = []\n",
    "    judges.extend({'cat':'m', 'name':fix_text(n.strip())} for n in m.group(1).split(','))\n",
    "    judges.extend({'cat':'p', 'name':fix_text(n.strip())} for n in m.group(2).split(','))\n",
    "    judges.extend({'cat':'s', 'name':fix_text(n.strip())} for n in m.group(3).split(','))\n",
    "    judges.extend({'cat':'ca', 'name':fix_text(n.strip())} for n in m.group(4).split(','))\n",
    "    return judges\n",
    "\n",
    "# Extract contest date from text\n",
    "def get_date(text):\n",
    "    m = re.compile(r\"Contest date:\\s*(.*)\\s*\").search(text)\n",
    "    return fix_text(m.group(1))\n",
    "\n",
    "# Extract contest name from text\n",
    "def get_contest(text):\n",
    "    m = re.compile(r\".*\\n(.*)\").match(text)\n",
    "    return fix_text(m.group(1))\n",
    "\n",
    "# Extract district name from text\n",
    "def get_district(text):\n",
    "    m = re.compile(r\"(.*)\").match(text)\n",
    "    return fix_text(m.group(1))"
   ]
  },
  {
   "cell_type": "code",
   "execution_count": 305,
   "metadata": {
    "collapsed": false
   },
   "outputs": [
    {
     "name": "stdout",
     "output_type": "stream",
     "text": [
      "2013QP-1.pdf\n",
      "2013QP-2.pdf\n",
      "2014CF.pdf\n",
      "2014QF-I.pdf\n",
      "2014QF.pdf\n",
      "2014QP-1.pdf\n",
      "2014QP-2.pdf\n",
      "2014QSF-I.pdf\n",
      "2014QSF.pdf\n",
      "2015CF.pdf\n",
      "2015QF-I.pdf\n",
      "2015QF.pdf\n",
      "2015QP-S.pdf\n",
      "2015QP-Y.pdf\n",
      "2015QP.pdf\n",
      "2015QSF-I.pdf\n",
      "2015QSF.pdf\n",
      "2016CF.pdf\n",
      "2016QF.pdf\n",
      "2016QP-S.pdf\n",
      "2016QP-Y.pdf\n",
      "2016QP.pdf\n",
      "2016QSF.pdf\n"
     ]
    }
   ],
   "source": [
    "# Scrape all pdf files in the same directory\n",
    "\n",
    "directories = [#'LABBS/',\n",
    "               'BABS/']\n",
    "\n",
    "for directory in directories:\n",
    "    for filename in os.listdir(directory):\n",
    "        if filename.endswith(\".pdf\"): \n",
    "            print(filename)\n",
    "            # extract the raw text\n",
    "            text = get_text_from_pdf(os.path.join(directory, filename))\n",
    "            # choose the appropriate parsing functions depending on type of contest\n",
    "            if re.search('CHORUS', get_contest(text)):\n",
    "                get_contestants = get_choruses\n",
    "            elif re.search('NATIONAL QUARTET FINALS', get_contest(text)):\n",
    "                get_contestants = get_quartets_final\n",
    "            else:\n",
    "                get_contestants = get_quartets\n",
    "            # parse the text, create object\n",
    "            contest = ({\n",
    "                'district':get_district(text),\n",
    "                'contest':get_contest(text),\n",
    "                'date':get_date(text),\n",
    "                'contestants':list(get_contestants(text)),\n",
    "                'judges':get_judges(text)\n",
    "            })\n",
    "            # save object as JSON\n",
    "            with open(os.path.join(directory, filename.replace('pdf', 'json')), 'w') as outfile:\n",
    "                json.dump(contest, outfile, indent=2)"
   ]
  },
  {
   "cell_type": "code",
   "execution_count": 303,
   "metadata": {
    "collapsed": false
   },
   "outputs": [
    {
     "data": {
      "text/plain": [
       "(' Helen Brown, Rob Campbell, Paul Davies\\n',\n",
       " ' Pat Deeble, Nickie James, Mike Warner',\n",
       " ' Cherry Hartshorn,\\n David King, Mike Taylor\\n',\n",
       " ' Chris Tideman, Samantha Roberts, Helen Ring, Yvonne Hughes, Phil Mobsby, Alastair Taylor-Payne')"
      ]
     },
     "execution_count": 303,
     "metadata": {},
     "output_type": "execute_result"
    }
   ],
   "source": [
    "text = get_text_from_pdf('BABS/2015CF.pdf')\n",
    "text = \"Music: Helen Brown, Rob Campbell, Paul Davies\\nPresentation: Pat Deeble, Nickie James, Mike WarnerSinging: Cherry Hartshorn,\\n David King, Mike Taylor\\nCA: Chris Tideman, Samantha Roberts, Helen Ring, Yvonne Hughes, Phil Mobsby, Alastair Taylor-Payne\\n\"\n",
    "m = re.compile(r\"Music:(.*)\\n?(?:Performance|Presentation):(.*)\\n?Singing:(.*)\\n?(?:Admin|CA):(.*?)(?:\\n|Signed)\", re.DOTALL).search(text)\n",
    "m.groups()\n"
   ]
  }
 ],
 "metadata": {
  "kernelspec": {
   "display_name": "Python 3",
   "language": "python",
   "name": "python3"
  },
  "language_info": {
   "codemirror_mode": {
    "name": "ipython",
    "version": 3
   },
   "file_extension": ".py",
   "mimetype": "text/x-python",
   "name": "python",
   "nbconvert_exporter": "python",
   "pygments_lexer": "ipython3",
   "version": "3.6.0"
  }
 },
 "nbformat": 4,
 "nbformat_minor": 0
}
